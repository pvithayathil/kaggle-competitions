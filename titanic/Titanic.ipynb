{
 "cells": [
  {
   "cell_type": "markdown",
   "id": "functional-mounting",
   "metadata": {},
   "source": [
    "# Imports"
   ]
  },
  {
   "cell_type": "code",
   "execution_count": 1,
   "id": "retained-feeling",
   "metadata": {},
   "outputs": [],
   "source": [
    "import pandas as pd\n",
    "import numpy as np"
   ]
  },
  {
   "cell_type": "code",
   "execution_count": 2,
   "id": "logical-ordering",
   "metadata": {},
   "outputs": [],
   "source": [
    "import seaborn as sns\n",
    "import matplotlib.pyplot as plt\n",
    "sns.set(style=\"white\")\n",
    "%matplotlib inline"
   ]
  },
  {
   "cell_type": "markdown",
   "id": "alpha-plane",
   "metadata": {},
   "source": [
    "# Load Data"
   ]
  },
  {
   "cell_type": "code",
   "execution_count": 3,
   "id": "funny-tobago",
   "metadata": {},
   "outputs": [],
   "source": [
    "def load_data(file_path):\n",
    "    \"\"\"\n",
    "    Load data and map Sex column to numerics\n",
    "    \"\"\"\n",
    "    df = pd.read_csv(file_path)\n",
    "    \n",
    "    sex_mapping = {\"male\": 0, \"female\": 1}\n",
    "    df['Sex'] = df['Sex'].map(sex_mapping)\n",
    "    \n",
    "    return df\n",
    "    \n",
    "    "
   ]
  },
  {
   "cell_type": "code",
   "execution_count": 4,
   "id": "informed-teach",
   "metadata": {},
   "outputs": [],
   "source": [
    "df_train = load_data('train.csv')"
   ]
  },
  {
   "cell_type": "code",
   "execution_count": 5,
   "id": "fourth-hayes",
   "metadata": {},
   "outputs": [],
   "source": [
    "df_test = load_data('test.csv')"
   ]
  },
  {
   "cell_type": "markdown",
   "id": "multiple-cradle",
   "metadata": {},
   "source": [
    "# Data Exploration"
   ]
  },
  {
   "cell_type": "code",
   "execution_count": 6,
   "id": "accompanied-premises",
   "metadata": {},
   "outputs": [],
   "source": [
    "df_train_exploration = df_train.copy()"
   ]
  },
  {
   "cell_type": "code",
   "execution_count": 7,
   "id": "destroyed-bosnia",
   "metadata": {},
   "outputs": [
    {
     "data": {
      "text/html": [
       "<div>\n",
       "<style scoped>\n",
       "    .dataframe tbody tr th:only-of-type {\n",
       "        vertical-align: middle;\n",
       "    }\n",
       "\n",
       "    .dataframe tbody tr th {\n",
       "        vertical-align: top;\n",
       "    }\n",
       "\n",
       "    .dataframe thead th {\n",
       "        text-align: right;\n",
       "    }\n",
       "</style>\n",
       "<table border=\"1\" class=\"dataframe\">\n",
       "  <thead>\n",
       "    <tr style=\"text-align: right;\">\n",
       "      <th></th>\n",
       "      <th>PassengerId</th>\n",
       "      <th>Survived</th>\n",
       "      <th>Pclass</th>\n",
       "      <th>Name</th>\n",
       "      <th>Sex</th>\n",
       "      <th>Age</th>\n",
       "      <th>SibSp</th>\n",
       "      <th>Parch</th>\n",
       "      <th>Ticket</th>\n",
       "      <th>Fare</th>\n",
       "      <th>Cabin</th>\n",
       "      <th>Embarked</th>\n",
       "    </tr>\n",
       "  </thead>\n",
       "  <tbody>\n",
       "    <tr>\n",
       "      <th>519</th>\n",
       "      <td>520</td>\n",
       "      <td>0</td>\n",
       "      <td>3</td>\n",
       "      <td>Pavlovic, Mr. Stefo</td>\n",
       "      <td>0</td>\n",
       "      <td>32.0</td>\n",
       "      <td>0</td>\n",
       "      <td>0</td>\n",
       "      <td>349242</td>\n",
       "      <td>7.8958</td>\n",
       "      <td>NaN</td>\n",
       "      <td>S</td>\n",
       "    </tr>\n",
       "    <tr>\n",
       "      <th>820</th>\n",
       "      <td>821</td>\n",
       "      <td>1</td>\n",
       "      <td>1</td>\n",
       "      <td>Hays, Mrs. Charles Melville (Clara Jennings Gr...</td>\n",
       "      <td>1</td>\n",
       "      <td>52.0</td>\n",
       "      <td>1</td>\n",
       "      <td>1</td>\n",
       "      <td>12749</td>\n",
       "      <td>93.5000</td>\n",
       "      <td>B69</td>\n",
       "      <td>S</td>\n",
       "    </tr>\n",
       "    <tr>\n",
       "      <th>800</th>\n",
       "      <td>801</td>\n",
       "      <td>0</td>\n",
       "      <td>2</td>\n",
       "      <td>Ponesell, Mr. Martin</td>\n",
       "      <td>0</td>\n",
       "      <td>34.0</td>\n",
       "      <td>0</td>\n",
       "      <td>0</td>\n",
       "      <td>250647</td>\n",
       "      <td>13.0000</td>\n",
       "      <td>NaN</td>\n",
       "      <td>S</td>\n",
       "    </tr>\n",
       "    <tr>\n",
       "      <th>569</th>\n",
       "      <td>570</td>\n",
       "      <td>1</td>\n",
       "      <td>3</td>\n",
       "      <td>Jonsson, Mr. Carl</td>\n",
       "      <td>0</td>\n",
       "      <td>32.0</td>\n",
       "      <td>0</td>\n",
       "      <td>0</td>\n",
       "      <td>350417</td>\n",
       "      <td>7.8542</td>\n",
       "      <td>NaN</td>\n",
       "      <td>S</td>\n",
       "    </tr>\n",
       "    <tr>\n",
       "      <th>375</th>\n",
       "      <td>376</td>\n",
       "      <td>1</td>\n",
       "      <td>1</td>\n",
       "      <td>Meyer, Mrs. Edgar Joseph (Leila Saks)</td>\n",
       "      <td>1</td>\n",
       "      <td>NaN</td>\n",
       "      <td>1</td>\n",
       "      <td>0</td>\n",
       "      <td>PC 17604</td>\n",
       "      <td>82.1708</td>\n",
       "      <td>NaN</td>\n",
       "      <td>C</td>\n",
       "    </tr>\n",
       "  </tbody>\n",
       "</table>\n",
       "</div>"
      ],
      "text/plain": [
       "     PassengerId  Survived  Pclass  \\\n",
       "519          520         0       3   \n",
       "820          821         1       1   \n",
       "800          801         0       2   \n",
       "569          570         1       3   \n",
       "375          376         1       1   \n",
       "\n",
       "                                                  Name  Sex   Age  SibSp  \\\n",
       "519                                Pavlovic, Mr. Stefo    0  32.0      0   \n",
       "820  Hays, Mrs. Charles Melville (Clara Jennings Gr...    1  52.0      1   \n",
       "800                               Ponesell, Mr. Martin    0  34.0      0   \n",
       "569                                  Jonsson, Mr. Carl    0  32.0      0   \n",
       "375              Meyer, Mrs. Edgar Joseph (Leila Saks)    1   NaN      1   \n",
       "\n",
       "     Parch    Ticket     Fare Cabin Embarked  \n",
       "519      0    349242   7.8958   NaN        S  \n",
       "820      1     12749  93.5000   B69        S  \n",
       "800      0    250647  13.0000   NaN        S  \n",
       "569      0    350417   7.8542   NaN        S  \n",
       "375      0  PC 17604  82.1708   NaN        C  "
      ]
     },
     "execution_count": 7,
     "metadata": {},
     "output_type": "execute_result"
    }
   ],
   "source": [
    "df_train_exploration.sample(5)"
   ]
  },
  {
   "cell_type": "code",
   "execution_count": 8,
   "id": "experienced-louis",
   "metadata": {
    "scrolled": true
   },
   "outputs": [
    {
     "data": {
      "text/plain": [
       "(891, 12)"
      ]
     },
     "execution_count": 8,
     "metadata": {},
     "output_type": "execute_result"
    }
   ],
   "source": [
    "df_train_exploration.shape"
   ]
  },
  {
   "cell_type": "code",
   "execution_count": 9,
   "id": "about-civilization",
   "metadata": {},
   "outputs": [
    {
     "name": "stdout",
     "output_type": "stream",
     "text": [
      "<class 'pandas.core.frame.DataFrame'>\n",
      "RangeIndex: 891 entries, 0 to 890\n",
      "Data columns (total 12 columns):\n",
      " #   Column       Non-Null Count  Dtype  \n",
      "---  ------       --------------  -----  \n",
      " 0   PassengerId  891 non-null    int64  \n",
      " 1   Survived     891 non-null    int64  \n",
      " 2   Pclass       891 non-null    int64  \n",
      " 3   Name         891 non-null    object \n",
      " 4   Sex          891 non-null    int64  \n",
      " 5   Age          714 non-null    float64\n",
      " 6   SibSp        891 non-null    int64  \n",
      " 7   Parch        891 non-null    int64  \n",
      " 8   Ticket       891 non-null    object \n",
      " 9   Fare         891 non-null    float64\n",
      " 10  Cabin        204 non-null    object \n",
      " 11  Embarked     889 non-null    object \n",
      "dtypes: float64(2), int64(6), object(4)\n",
      "memory usage: 83.7+ KB\n"
     ]
    }
   ],
   "source": [
    "df_train_exploration.info()"
   ]
  },
  {
   "cell_type": "code",
   "execution_count": 10,
   "id": "sublime-taste",
   "metadata": {},
   "outputs": [
    {
     "data": {
      "text/html": [
       "<div>\n",
       "<style scoped>\n",
       "    .dataframe tbody tr th:only-of-type {\n",
       "        vertical-align: middle;\n",
       "    }\n",
       "\n",
       "    .dataframe tbody tr th {\n",
       "        vertical-align: top;\n",
       "    }\n",
       "\n",
       "    .dataframe thead th {\n",
       "        text-align: right;\n",
       "    }\n",
       "</style>\n",
       "<table border=\"1\" class=\"dataframe\">\n",
       "  <thead>\n",
       "    <tr style=\"text-align: right;\">\n",
       "      <th></th>\n",
       "      <th>PassengerId</th>\n",
       "      <th>Pclass</th>\n",
       "      <th>Name</th>\n",
       "      <th>Sex</th>\n",
       "      <th>Age</th>\n",
       "      <th>SibSp</th>\n",
       "      <th>Parch</th>\n",
       "      <th>Ticket</th>\n",
       "      <th>Fare</th>\n",
       "      <th>Cabin</th>\n",
       "      <th>Embarked</th>\n",
       "    </tr>\n",
       "  </thead>\n",
       "  <tbody>\n",
       "    <tr>\n",
       "      <th>210</th>\n",
       "      <td>1102</td>\n",
       "      <td>3</td>\n",
       "      <td>Andersen, Mr. Albert Karvin</td>\n",
       "      <td>0</td>\n",
       "      <td>32.0</td>\n",
       "      <td>0</td>\n",
       "      <td>0</td>\n",
       "      <td>C 4001</td>\n",
       "      <td>22.5250</td>\n",
       "      <td>NaN</td>\n",
       "      <td>S</td>\n",
       "    </tr>\n",
       "    <tr>\n",
       "      <th>134</th>\n",
       "      <td>1026</td>\n",
       "      <td>3</td>\n",
       "      <td>Dintcheff, Mr. Valtcho</td>\n",
       "      <td>0</td>\n",
       "      <td>43.0</td>\n",
       "      <td>0</td>\n",
       "      <td>0</td>\n",
       "      <td>349226</td>\n",
       "      <td>7.8958</td>\n",
       "      <td>NaN</td>\n",
       "      <td>S</td>\n",
       "    </tr>\n",
       "    <tr>\n",
       "      <th>155</th>\n",
       "      <td>1047</td>\n",
       "      <td>3</td>\n",
       "      <td>Duquemin, Mr. Joseph</td>\n",
       "      <td>0</td>\n",
       "      <td>24.0</td>\n",
       "      <td>0</td>\n",
       "      <td>0</td>\n",
       "      <td>S.O./P.P. 752</td>\n",
       "      <td>7.5500</td>\n",
       "      <td>NaN</td>\n",
       "      <td>S</td>\n",
       "    </tr>\n",
       "    <tr>\n",
       "      <th>171</th>\n",
       "      <td>1063</td>\n",
       "      <td>3</td>\n",
       "      <td>Zakarian, Mr. Ortin</td>\n",
       "      <td>0</td>\n",
       "      <td>27.0</td>\n",
       "      <td>0</td>\n",
       "      <td>0</td>\n",
       "      <td>2670</td>\n",
       "      <td>7.2250</td>\n",
       "      <td>NaN</td>\n",
       "      <td>C</td>\n",
       "    </tr>\n",
       "    <tr>\n",
       "      <th>277</th>\n",
       "      <td>1169</td>\n",
       "      <td>2</td>\n",
       "      <td>Faunthorpe, Mr. Harry</td>\n",
       "      <td>0</td>\n",
       "      <td>40.0</td>\n",
       "      <td>1</td>\n",
       "      <td>0</td>\n",
       "      <td>2926</td>\n",
       "      <td>26.0000</td>\n",
       "      <td>NaN</td>\n",
       "      <td>S</td>\n",
       "    </tr>\n",
       "  </tbody>\n",
       "</table>\n",
       "</div>"
      ],
      "text/plain": [
       "     PassengerId  Pclass                         Name  Sex   Age  SibSp  \\\n",
       "210         1102       3  Andersen, Mr. Albert Karvin    0  32.0      0   \n",
       "134         1026       3       Dintcheff, Mr. Valtcho    0  43.0      0   \n",
       "155         1047       3         Duquemin, Mr. Joseph    0  24.0      0   \n",
       "171         1063       3          Zakarian, Mr. Ortin    0  27.0      0   \n",
       "277         1169       2        Faunthorpe, Mr. Harry    0  40.0      1   \n",
       "\n",
       "     Parch         Ticket     Fare Cabin Embarked  \n",
       "210      0         C 4001  22.5250   NaN        S  \n",
       "134      0         349226   7.8958   NaN        S  \n",
       "155      0  S.O./P.P. 752   7.5500   NaN        S  \n",
       "171      0           2670   7.2250   NaN        C  \n",
       "277      0           2926  26.0000   NaN        S  "
      ]
     },
     "execution_count": 10,
     "metadata": {},
     "output_type": "execute_result"
    }
   ],
   "source": [
    "df_test.sample(5)"
   ]
  },
  {
   "cell_type": "code",
   "execution_count": 11,
   "id": "square-james",
   "metadata": {},
   "outputs": [
    {
     "data": {
      "text/plain": [
       "(418, 11)"
      ]
     },
     "execution_count": 11,
     "metadata": {},
     "output_type": "execute_result"
    }
   ],
   "source": [
    "df_test.shape"
   ]
  },
  {
   "cell_type": "code",
   "execution_count": 12,
   "id": "banner-lebanon",
   "metadata": {},
   "outputs": [
    {
     "name": "stdout",
     "output_type": "stream",
     "text": [
      "<class 'pandas.core.frame.DataFrame'>\n",
      "RangeIndex: 418 entries, 0 to 417\n",
      "Data columns (total 11 columns):\n",
      " #   Column       Non-Null Count  Dtype  \n",
      "---  ------       --------------  -----  \n",
      " 0   PassengerId  418 non-null    int64  \n",
      " 1   Pclass       418 non-null    int64  \n",
      " 2   Name         418 non-null    object \n",
      " 3   Sex          418 non-null    int64  \n",
      " 4   Age          332 non-null    float64\n",
      " 5   SibSp        418 non-null    int64  \n",
      " 6   Parch        418 non-null    int64  \n",
      " 7   Ticket       418 non-null    object \n",
      " 8   Fare         417 non-null    float64\n",
      " 9   Cabin        91 non-null     object \n",
      " 10  Embarked     418 non-null    object \n",
      "dtypes: float64(2), int64(5), object(4)\n",
      "memory usage: 36.0+ KB\n"
     ]
    }
   ],
   "source": [
    "df_test.info()"
   ]
  },
  {
   "cell_type": "markdown",
   "id": "circular-closer",
   "metadata": {},
   "source": [
    "### Age"
   ]
  },
  {
   "cell_type": "code",
   "execution_count": 13,
   "id": "alternate-breed",
   "metadata": {},
   "outputs": [
    {
     "data": {
      "text/plain": [
       "count    714.000000\n",
       "mean      29.699118\n",
       "std       14.526497\n",
       "min        0.420000\n",
       "25%       20.125000\n",
       "50%       28.000000\n",
       "75%       38.000000\n",
       "max       80.000000\n",
       "Name: Age, dtype: float64"
      ]
     },
     "execution_count": 13,
     "metadata": {},
     "output_type": "execute_result"
    }
   ],
   "source": [
    "df_train_exploration['Age'].describe()"
   ]
  },
  {
   "cell_type": "code",
   "execution_count": 14,
   "id": "meaning-limitation",
   "metadata": {},
   "outputs": [],
   "source": [
    "df_train_exploration['LogAge'] = np.log(df_train_exploration['Age'].replace(0, np.nan))"
   ]
  },
  {
   "cell_type": "code",
   "execution_count": 15,
   "id": "turned-corps",
   "metadata": {},
   "outputs": [],
   "source": [
    "df_train_exploration['AgeBinned'] = pd.cut(df_train_exploration['Age'], \n",
    "                               [0, 2, 15, 35, 60, 200], \n",
    "                               labels=['infant_0-2', 'child_2-15', 'young adult_15-35','adult_35-60','elderly_over_60'])"
   ]
  },
  {
   "cell_type": "code",
   "execution_count": 16,
   "id": "broad-benefit",
   "metadata": {},
   "outputs": [
    {
     "data": {
      "text/plain": [
       "<AxesSubplot:xlabel='Age', ylabel='Count'>"
      ]
     },
     "execution_count": 16,
     "metadata": {},
     "output_type": "execute_result"
    },
    {
     "data": {
      "image/png": "[encoded data removed]",
      "text/plain": [
       "<Figure size 576x432 with 1 Axes>"
      ]
     },
     "metadata": {
      "needs_background": "light"
     },
     "output_type": "display_data"
    }
   ],
   "source": [
    "plt.figure(figsize=(8, 6))\n",
    "sns.histplot(x='Age',hue ='Survived', kde=True, data=df_train_exploration)"
   ]
  },
  {
   "cell_type": "code",
   "execution_count": 17,
   "id": "exterior-procedure",
   "metadata": {},
   "outputs": [
    {
     "data": {
      "text/plain": [
       "<AxesSubplot:xlabel='LogAge', ylabel='Count'>"
      ]
     },
     "execution_count": 17,
     "metadata": {},
     "output_type": "execute_result"
    },
    {
     "data": {
      "image/png": "[encoded data removed]",
      "text/plain": [
       "<Figure size 576x432 with 1 Axes>"
      ]
     },
     "metadata": {
      "needs_background": "light"
     },
     "output_type": "display_data"
    }
   ],
   "source": [
    "plt.figure(figsize=(8, 6))\n",
    "sns.histplot(x='LogAge',hue ='Survived', kde=True, data=df_train_exploration)"
   ]
  },
  {
   "cell_type": "code",
   "execution_count": 18,
   "id": "useful-layer",
   "metadata": {},
   "outputs": [
    {
     "data": {
      "text/plain": [
       "<AxesSubplot:xlabel='AgeBinned', ylabel='count'>"
      ]
     },
     "execution_count": 18,
     "metadata": {},
     "output_type": "execute_result"
    },
    {
     "data": {
      "image/png": "[encoded data removed]",
      "text/plain": [
       "<Figure size 576x432 with 1 Axes>"
      ]
     },
     "metadata": {
      "needs_background": "light"
     },
     "output_type": "display_data"
    }
   ],
   "source": [
    "plt.figure(figsize=(8, 6))\n",
    "sns.countplot(x='AgeBinned', hue='Survived', data=df_train_exploration)"
   ]
  },
  {
   "cell_type": "code",
   "execution_count": 19,
   "id": "checked-prototype",
   "metadata": {},
   "outputs": [],
   "source": [
    "df_train_exploration_corr = df_train_exploration.corr().abs().unstack().sort_values(ascending=False).reset_index()\n",
    "df_train_exploration_corr.rename(columns={\"level_0\": \"Feature 1\", \"level_1\": \"Feature 2\", 0: 'Correlation Coefficient'}, inplace=True)"
   ]
  },
  {
   "cell_type": "code",
   "execution_count": 20,
   "id": "clean-slovak",
   "metadata": {},
   "outputs": [
    {
     "data": {
      "text/html": [
       "<div>\n",
       "<style scoped>\n",
       "    .dataframe tbody tr th:only-of-type {\n",
       "        vertical-align: middle;\n",
       "    }\n",
       "\n",
       "    .dataframe tbody tr th {\n",
       "        vertical-align: top;\n",
       "    }\n",
       "\n",
       "    .dataframe thead th {\n",
       "        text-align: right;\n",
       "    }\n",
       "</style>\n",
       "<table border=\"1\" class=\"dataframe\">\n",
       "  <thead>\n",
       "    <tr style=\"text-align: right;\">\n",
       "      <th></th>\n",
       "      <th>Feature 1</th>\n",
       "      <th>Feature 2</th>\n",
       "      <th>Correlation Coefficient</th>\n",
       "    </tr>\n",
       "  </thead>\n",
       "  <tbody>\n",
       "    <tr>\n",
       "      <th>7</th>\n",
       "      <td>Age</td>\n",
       "      <td>Age</td>\n",
       "      <td>1.000000</td>\n",
       "    </tr>\n",
       "    <tr>\n",
       "      <th>10</th>\n",
       "      <td>Age</td>\n",
       "      <td>LogAge</td>\n",
       "      <td>0.850933</td>\n",
       "    </tr>\n",
       "    <tr>\n",
       "      <th>20</th>\n",
       "      <td>Age</td>\n",
       "      <td>Pclass</td>\n",
       "      <td>0.369226</td>\n",
       "    </tr>\n",
       "    <tr>\n",
       "      <th>23</th>\n",
       "      <td>Age</td>\n",
       "      <td>SibSp</td>\n",
       "      <td>0.308247</td>\n",
       "    </tr>\n",
       "    <tr>\n",
       "      <th>36</th>\n",
       "      <td>Age</td>\n",
       "      <td>Parch</td>\n",
       "      <td>0.189119</td>\n",
       "    </tr>\n",
       "    <tr>\n",
       "      <th>48</th>\n",
       "      <td>Age</td>\n",
       "      <td>Fare</td>\n",
       "      <td>0.096067</td>\n",
       "    </tr>\n",
       "    <tr>\n",
       "      <th>49</th>\n",
       "      <td>Age</td>\n",
       "      <td>Sex</td>\n",
       "      <td>0.093254</td>\n",
       "    </tr>\n",
       "    <tr>\n",
       "      <th>56</th>\n",
       "      <td>Age</td>\n",
       "      <td>Survived</td>\n",
       "      <td>0.077221</td>\n",
       "    </tr>\n",
       "    <tr>\n",
       "      <th>65</th>\n",
       "      <td>Age</td>\n",
       "      <td>PassengerId</td>\n",
       "      <td>0.036847</td>\n",
       "    </tr>\n",
       "  </tbody>\n",
       "</table>\n",
       "</div>"
      ],
      "text/plain": [
       "   Feature 1    Feature 2  Correlation Coefficient\n",
       "7        Age          Age                 1.000000\n",
       "10       Age       LogAge                 0.850933\n",
       "20       Age       Pclass                 0.369226\n",
       "23       Age        SibSp                 0.308247\n",
       "36       Age        Parch                 0.189119\n",
       "48       Age         Fare                 0.096067\n",
       "49       Age          Sex                 0.093254\n",
       "56       Age     Survived                 0.077221\n",
       "65       Age  PassengerId                 0.036847"
      ]
     },
     "execution_count": 20,
     "metadata": {},
     "output_type": "execute_result"
    }
   ],
   "source": [
    "df_train_exploration_corr[df_train_exploration_corr['Feature 1'] == 'Age']\n"
   ]
  },
  {
   "cell_type": "markdown",
   "id": "robust-scope",
   "metadata": {},
   "source": [
    "## Fare"
   ]
  },
  {
   "cell_type": "code",
   "execution_count": 21,
   "id": "hollywood-fantasy",
   "metadata": {},
   "outputs": [
    {
     "data": {
      "text/plain": [
       "count    891.000000\n",
       "mean      32.204208\n",
       "std       49.693429\n",
       "min        0.000000\n",
       "25%        7.910400\n",
       "50%       14.454200\n",
       "75%       31.000000\n",
       "max      512.329200\n",
       "Name: Fare, dtype: float64"
      ]
     },
     "execution_count": 21,
     "metadata": {},
     "output_type": "execute_result"
    }
   ],
   "source": [
    "df_train_exploration['Fare'].describe()"
   ]
  },
  {
   "cell_type": "code",
   "execution_count": 22,
   "id": "liquid-america",
   "metadata": {},
   "outputs": [],
   "source": [
    "df_train_exploration['LogFare'] = np.log(df_train_exploration['Fare'].replace(0, np.nan))"
   ]
  },
  {
   "cell_type": "code",
   "execution_count": 23,
   "id": "awful-english",
   "metadata": {},
   "outputs": [],
   "source": [
    "df_train_exploration['FareBinned'] = pd.cut(df_train_exploration['Fare'], \n",
    "                               [0, 10, 50, 100, 1000], \n",
    "                                labels=['fare_0-10', 'fare_10-50', 'fare_50-100','fare_100-1000']\n",
    "                               )"
   ]
  },
  {
   "cell_type": "code",
   "execution_count": 24,
   "id": "continuing-replication",
   "metadata": {},
   "outputs": [
    {
     "data": {
      "text/plain": [
       "<AxesSubplot:xlabel='Fare', ylabel='Count'>"
      ]
     },
     "execution_count": 24,
     "metadata": {},
     "output_type": "execute_result"
    },
    {
     "data": {
      "image/png": "[encoded data removed]",
      "text/plain": [
       "<Figure size 576x432 with 1 Axes>"
      ]
     },
     "metadata": {
      "needs_background": "light"
     },
     "output_type": "display_data"
    }
   ],
   "source": [
    "plt.figure(figsize=(8, 6))\n",
    "sns.histplot(x='Fare',hue ='Survived', kde=True, data=df_train_exploration)"
   ]
  },
  {
   "cell_type": "code",
   "execution_count": 25,
   "id": "accepting-cooper",
   "metadata": {},
   "outputs": [
    {
     "data": {
      "text/plain": [
       "<AxesSubplot:xlabel='LogFare', ylabel='Count'>"
      ]
     },
     "execution_count": 25,
     "metadata": {},
     "output_type": "execute_result"
    },
    {
     "data": {
      "image/png": "[encoded data removed]",
      "text/plain": [
       "<Figure size 576x432 with 1 Axes>"
      ]
     },
     "metadata": {
      "needs_background": "light"
     },
     "output_type": "display_data"
    }
   ],
   "source": [
    "plt.figure(figsize=(8, 6))\n",
    "sns.histplot(x='LogFare',hue ='Survived', kde=True, data=df_train_exploration)"
   ]
  },
  {
   "cell_type": "code",
   "execution_count": 26,
   "id": "mexican-sodium",
   "metadata": {},
   "outputs": [
    {
     "data": {
      "text/plain": [
       "<AxesSubplot:xlabel='FareBinned', ylabel='count'>"
      ]
     },
     "execution_count": 26,
     "metadata": {},
     "output_type": "execute_result"
    },
    {
     "data": {
      "image/png": "[encoded data removed]",
      "text/plain": [
       "<Figure size 576x432 with 1 Axes>"
      ]
     },
     "metadata": {
      "needs_background": "light"
     },
     "output_type": "display_data"
    }
   ],
   "source": [
    "plt.figure(figsize=(8, 6))\n",
    "sns.countplot(x='FareBinned', hue='Survived', data=df_train_exploration)"
   ]
  },
  {
   "cell_type": "markdown",
   "id": "indonesian-shift",
   "metadata": {},
   "source": [
    "## Cabin"
   ]
  },
  {
   "cell_type": "code",
   "execution_count": 27,
   "id": "physical-covering",
   "metadata": {},
   "outputs": [
    {
     "data": {
      "text/plain": [
       "count     204\n",
       "unique    147\n",
       "top        G6\n",
       "freq        4\n",
       "Name: Cabin, dtype: object"
      ]
     },
     "execution_count": 27,
     "metadata": {},
     "output_type": "execute_result"
    }
   ],
   "source": [
    "df_train_exploration['Cabin'].describe()"
   ]
  },
  {
   "cell_type": "code",
   "execution_count": 28,
   "id": "mathematical-experiment",
   "metadata": {},
   "outputs": [],
   "source": [
    "df_train_exploration['Deck']=df_train_exploration['Cabin'].apply(lambda s: s[0] if pd.notnull(s) else np.NaN)"
   ]
  },
  {
   "cell_type": "code",
   "execution_count": 29,
   "id": "corrected-conviction",
   "metadata": {},
   "outputs": [
    {
     "data": {
      "text/plain": [
       "count     204\n",
       "unique      8\n",
       "top         C\n",
       "freq       59\n",
       "Name: Deck, dtype: object"
      ]
     },
     "execution_count": 29,
     "metadata": {},
     "output_type": "execute_result"
    }
   ],
   "source": [
    "df_train_exploration['Deck'].describe()"
   ]
  },
  {
   "cell_type": "code",
   "execution_count": 30,
   "id": "expressed-logan",
   "metadata": {},
   "outputs": [
    {
     "data": {
      "text/html": [
       "<div>\n",
       "<style scoped>\n",
       "    .dataframe tbody tr th:only-of-type {\n",
       "        vertical-align: middle;\n",
       "    }\n",
       "\n",
       "    .dataframe tbody tr th {\n",
       "        vertical-align: top;\n",
       "    }\n",
       "\n",
       "    .dataframe thead th {\n",
       "        text-align: right;\n",
       "    }\n",
       "</style>\n",
       "<table border=\"1\" class=\"dataframe\">\n",
       "  <thead>\n",
       "    <tr style=\"text-align: right;\">\n",
       "      <th></th>\n",
       "      <th>Deck</th>\n",
       "      <th>Survived</th>\n",
       "    </tr>\n",
       "  </thead>\n",
       "  <tbody>\n",
       "    <tr>\n",
       "      <th>0</th>\n",
       "      <td>A</td>\n",
       "      <td>7</td>\n",
       "    </tr>\n",
       "    <tr>\n",
       "      <th>1</th>\n",
       "      <td>B</td>\n",
       "      <td>35</td>\n",
       "    </tr>\n",
       "    <tr>\n",
       "      <th>2</th>\n",
       "      <td>C</td>\n",
       "      <td>35</td>\n",
       "    </tr>\n",
       "    <tr>\n",
       "      <th>3</th>\n",
       "      <td>D</td>\n",
       "      <td>25</td>\n",
       "    </tr>\n",
       "    <tr>\n",
       "      <th>4</th>\n",
       "      <td>E</td>\n",
       "      <td>24</td>\n",
       "    </tr>\n",
       "    <tr>\n",
       "      <th>5</th>\n",
       "      <td>F</td>\n",
       "      <td>8</td>\n",
       "    </tr>\n",
       "    <tr>\n",
       "      <th>6</th>\n",
       "      <td>G</td>\n",
       "      <td>2</td>\n",
       "    </tr>\n",
       "  </tbody>\n",
       "</table>\n",
       "</div>"
      ],
      "text/plain": [
       "  Deck  Survived\n",
       "0    A         7\n",
       "1    B        35\n",
       "2    C        35\n",
       "3    D        25\n",
       "4    E        24\n",
       "5    F         8\n",
       "6    G         2"
      ]
     },
     "execution_count": 30,
     "metadata": {},
     "output_type": "execute_result"
    }
   ],
   "source": [
    "df_train_exploration[df_train_exploration['Survived']==1].groupby('Deck')['Survived'].count().reset_index()"
   ]
  },
  {
   "cell_type": "code",
   "execution_count": 31,
   "id": "finite-people",
   "metadata": {},
   "outputs": [],
   "source": [
    "total = df_train_exploration.groupby('Deck')['Survived'].count().reset_index()\n",
    "survived = df_train_exploration[df_train_exploration['Survived']==1].groupby('Deck')['Survived'].count().reset_index()\n",
    "survived['percent_survived'] = [i / j * 100 for i,j in zip(survived['Survived'], total['Survived'])]"
   ]
  },
  {
   "cell_type": "code",
   "execution_count": 32,
   "id": "sophisticated-adelaide",
   "metadata": {},
   "outputs": [
    {
     "data": {
      "image/png": "[encoded data removed]",
      "text/plain": [
       "<Figure size 432x288 with 1 Axes>"
      ]
     },
     "metadata": {
      "needs_background": "light"
     },
     "output_type": "display_data"
    }
   ],
   "source": [
    "total = df_train_exploration.groupby('Deck')['Survived'].count().reset_index()\n",
    "survived = df_train_exploration[df_train_exploration['Survived']==1].groupby('Deck')['Survived'].count().reset_index()\n",
    "survived['percent_survived'] = [i / j * 100 for i,j in zip(survived['Survived'], total['Survived'])]\n",
    "total['percent_survived'] = [i / j * 100 for i,j in zip(total['Survived'], total['Survived'])]\n",
    "\n",
    "bar1 = sns.barplot(x=\"Deck\",  y=\"percent_survived\", data=total, color='darkblue')\n",
    "bar2 = sns.barplot(x=\"Deck\", y=\"percent_survived\", data=survived, color='lightblue')"
   ]
  },
  {
   "cell_type": "markdown",
   "id": "systematic-interim",
   "metadata": {},
   "source": [
    "## Sibsp & Parch"
   ]
  },
  {
   "cell_type": "code",
   "execution_count": 33,
   "id": "radical-sweden",
   "metadata": {},
   "outputs": [],
   "source": [
    "total = df_train_exploration.groupby('SibSp')['Survived'].count().reset_index()\n",
    "survived = df_train_exploration[df_train_exploration['Survived']==1].groupby('SibSp')['Survived'].count().reset_index()\n",
    "survived['percent_survived'] = [i / j * 100 for i,j in zip(survived['Survived'], total['Survived'])]"
   ]
  },
  {
   "cell_type": "code",
   "execution_count": 34,
   "id": "arabic-garbage",
   "metadata": {},
   "outputs": [
    {
     "data": {
      "image/png": "[encoded data removed]",
      "text/plain": [
       "<Figure size 432x288 with 1 Axes>"
      ]
     },
     "metadata": {
      "needs_background": "light"
     },
     "output_type": "display_data"
    }
   ],
   "source": [
    "total = df_train_exploration.groupby('SibSp')['Survived'].count().reset_index()\n",
    "survived = df_train_exploration[df_train_exploration['Survived']==1].groupby('SibSp')['Survived'].count().reset_index()\n",
    "survived['percent_survived'] = [i / j * 100 for i,j in zip(survived['Survived'], total['Survived'])]\n",
    "total['percent_survived'] = [i / j * 100 for i,j in zip(total['Survived'], total['Survived'])]\n",
    "\n",
    "bar1 = sns.barplot(x=\"SibSp\",  y=\"percent_survived\", data=total, color='darkblue')\n",
    "bar2 = sns.barplot(x=\"SibSp\", y=\"percent_survived\", data=survived, color='lightblue')"
   ]
  },
  {
   "cell_type": "code",
   "execution_count": 35,
   "id": "moved-mixer",
   "metadata": {},
   "outputs": [],
   "source": [
    "total = df_train_exploration.groupby('Parch')['Survived'].count().reset_index()\n",
    "survived = df_train_exploration[df_train_exploration['Survived']==1].groupby('Parch')['Survived'].count().reset_index()\n",
    "survived['percent_survived'] = [i / j * 100 for i,j in zip(survived['Survived'], total['Survived'])]"
   ]
  },
  {
   "cell_type": "code",
   "execution_count": 36,
   "id": "twenty-basement",
   "metadata": {},
   "outputs": [
    {
     "data": {
      "image/png": "[encoded data removed]",
      "text/plain": [
       "<Figure size 432x288 with 1 Axes>"
      ]
     },
     "metadata": {
      "needs_background": "light"
     },
     "output_type": "display_data"
    }
   ],
   "source": [
    "total = df_train_exploration.groupby('Parch')['Survived'].count().reset_index()\n",
    "survived = df_train_exploration[df_train_exploration['Survived']==1].groupby('Parch')['Survived'].count().reset_index()\n",
    "survived['percent_survived'] = [i / j * 100 for i,j in zip(survived['Survived'], total['Survived'])]\n",
    "total['percent_survived'] = [i / j * 100 for i,j in zip(total['Survived'], total['Survived'])]\n",
    "\n",
    "bar1 = sns.barplot(x=\"Parch\",  y=\"percent_survived\", data=total, color='darkblue')\n",
    "bar2 = sns.barplot(x=\"Parch\", y=\"percent_survived\", data=survived, color='lightblue')"
   ]
  },
  {
   "cell_type": "code",
   "execution_count": 37,
   "id": "toxic-empty",
   "metadata": {},
   "outputs": [],
   "source": [
    "df_train_exploration['Family_Size_On_Titanic'] = df_train_exploration['SibSp'] + df_train_exploration['Parch']"
   ]
  },
  {
   "cell_type": "code",
   "execution_count": 38,
   "id": "industrial-moral",
   "metadata": {},
   "outputs": [],
   "source": [
    "total = df_train_exploration.groupby('Family_Size_On_Titanic')['Survived'].count().reset_index()\n",
    "survived = df_train_exploration[df_train_exploration['Survived']==1].groupby('Family_Size_On_Titanic')['Survived'].count().reset_index()\n",
    "survived['percent_survived'] = [i / j * 100 for i,j in zip(survived['Survived'], total['Survived'])]"
   ]
  },
  {
   "cell_type": "code",
   "execution_count": 39,
   "id": "dimensional-accommodation",
   "metadata": {},
   "outputs": [
    {
     "data": {
      "image/png": "[encoded data removed]",
      "text/plain": [
       "<Figure size 432x288 with 1 Axes>"
      ]
     },
     "metadata": {
      "needs_background": "light"
     },
     "output_type": "display_data"
    }
   ],
   "source": [
    "total = df_train_exploration.groupby('Family_Size_On_Titanic')['Survived'].count().reset_index()\n",
    "survived = df_train_exploration[df_train_exploration['Survived']==1].groupby('Family_Size_On_Titanic')['Survived'].count().reset_index()\n",
    "survived['percent_survived'] = [i / j * 100 for i,j in zip(survived['Survived'], total['Survived'])]\n",
    "total['percent_survived'] = [i / j * 100 for i,j in zip(total['Survived'], total['Survived'])]\n",
    "\n",
    "bar1 = sns.barplot(x=\"Family_Size_On_Titanic\",  y=\"percent_survived\", data=total, color='darkblue')\n",
    "bar2 = sns.barplot(x=\"Family_Size_On_Titanic\", y=\"percent_survived\", data=survived, color='lightblue')"
   ]
  },
  {
   "cell_type": "code",
   "execution_count": 40,
   "id": "executive-arena",
   "metadata": {},
   "outputs": [],
   "source": [
    "df_train_exploration['Family_Size_On_TitanicBinned'] = pd.cut(df_train_exploration['Family_Size_On_Titanic'], \n",
    "                                                              [-1,0,3, 10], \n",
    "                                                              labels=['alone', 'smail_family_1-3', 'large_family_over_4']\n",
    "                                                             )"
   ]
  },
  {
   "cell_type": "code",
   "execution_count": 41,
   "id": "utility-going",
   "metadata": {},
   "outputs": [
    {
     "data": {
      "text/plain": [
       "<AxesSubplot:xlabel='Family_Size_On_TitanicBinned', ylabel='count'>"
      ]
     },
     "execution_count": 41,
     "metadata": {},
     "output_type": "execute_result"
    },
    {
     "data": {
      "image/png": "[encoded data removed]",
      "text/plain": [
       "<Figure size 576x432 with 1 Axes>"
      ]
     },
     "metadata": {
      "needs_background": "light"
     },
     "output_type": "display_data"
    }
   ],
   "source": [
    "plt.figure(figsize=(8, 6))\n",
    "sns.countplot(x='Family_Size_On_TitanicBinned', hue='Survived', data=df_train_exploration)"
   ]
  },
  {
   "cell_type": "markdown",
   "id": "moving-canal",
   "metadata": {},
   "source": [
    "## Name"
   ]
  },
  {
   "cell_type": "code",
   "execution_count": 42,
   "id": "random-cutting",
   "metadata": {},
   "outputs": [],
   "source": [
    "df_train_exploration['Title']=df_train_exploration['Name'].str.split(', ', expand=True)[1].str.split('.', expand=True)[0]"
   ]
  },
  {
   "cell_type": "code",
   "execution_count": 43,
   "id": "reserved-nepal",
   "metadata": {},
   "outputs": [],
   "source": [
    "title_list = ['Mr','Mrs','Miss','Master','Rev','Dr']\n",
    "df_train_exploration['Title'] = df_train_exploration['Title'].apply(lambda x: x if x in title_list else \"Other\")"
   ]
  },
  {
   "cell_type": "code",
   "execution_count": 44,
   "id": "global-worry",
   "metadata": {},
   "outputs": [
    {
     "data": {
      "text/plain": [
       "<AxesSubplot:xlabel='Title', ylabel='count'>"
      ]
     },
     "execution_count": 44,
     "metadata": {},
     "output_type": "execute_result"
    },
    {
     "data": {
      "image/png": "[encoded data removed]",
      "text/plain": [
       "<Figure size 576x432 with 1 Axes>"
      ]
     },
     "metadata": {
      "needs_background": "light"
     },
     "output_type": "display_data"
    }
   ],
   "source": [
    "plt.figure(figsize=(8, 6))\n",
    "sns.countplot(x='Title', hue='Survived', data=df_train_exploration)"
   ]
  },
  {
   "cell_type": "markdown",
   "id": "continent-efficiency",
   "metadata": {},
   "source": [
    "## Ticket Type"
   ]
  },
  {
   "cell_type": "code",
   "execution_count": 45,
   "id": "national-fountain",
   "metadata": {},
   "outputs": [],
   "source": [
    "df_train_exploration['Ticket_type'] = df_train_exploration['Ticket'].apply(lambda x: x[0:3])\n",
    "df_train_exploration['Ticket_type'] = df_train_exploration['Ticket_type'].astype('category')\n"
   ]
  },
  {
   "cell_type": "code",
   "execution_count": 46,
   "id": "relevant-bible",
   "metadata": {},
   "outputs": [],
   "source": [
    "ticket_list = ['PC','349','347','113','C.A','345','310','350','STO','A/5','SOT','266']\n",
    "df_train_exploration['Ticket_type'] = df_train_exploration['Ticket_type'].apply(lambda x: x if x in title_list else \"Other\")"
   ]
  },
  {
   "cell_type": "code",
   "execution_count": 47,
   "id": "nasty-cycling",
   "metadata": {},
   "outputs": [
    {
     "data": {
      "text/plain": [
       "<AxesSubplot:xlabel='Ticket_type', ylabel='count'>"
      ]
     },
     "execution_count": 47,
     "metadata": {},
     "output_type": "execute_result"
    },
    {
     "data": {
      "image/png": "[encoded data removed]",
      "text/plain": [
       "<Figure size 576x432 with 1 Axes>"
      ]
     },
     "metadata": {
      "needs_background": "light"
     },
     "output_type": "display_data"
    }
   ],
   "source": [
    "plt.figure(figsize=(8, 6))\n",
    "sns.countplot(x='Ticket_type', hue='Survived', data=df_train_exploration)"
   ]
  },
  {
   "cell_type": "markdown",
   "id": "compressed-shade",
   "metadata": {},
   "source": [
    "## Word Length"
   ]
  },
  {
   "cell_type": "code",
   "execution_count": 48,
   "id": "inside-asset",
   "metadata": {},
   "outputs": [],
   "source": [
    "df_train_exploration['Words_Count'] = df_train_exploration['Name'].apply(lambda x: len(x.split()))\n"
   ]
  },
  {
   "cell_type": "code",
   "execution_count": 49,
   "id": "refined-decision",
   "metadata": {},
   "outputs": [
    {
     "data": {
      "text/plain": [
       "<AxesSubplot:xlabel='Words_Count', ylabel='count'>"
      ]
     },
     "execution_count": 49,
     "metadata": {},
     "output_type": "execute_result"
    },
    {
     "data": {
      "image/png": "[encoded data removed]",
      "text/plain": [
       "<Figure size 576x432 with 1 Axes>"
      ]
     },
     "metadata": {
      "needs_background": "light"
     },
     "output_type": "display_data"
    }
   ],
   "source": [
    "plt.figure(figsize=(8, 6))\n",
    "sns.countplot(x='Words_Count', hue='Survived', data=df_train_exploration)"
   ]
  },
  {
   "cell_type": "markdown",
   "id": "potential-metallic",
   "metadata": {},
   "source": [
    "## Correlation"
   ]
  },
  {
   "cell_type": "code",
   "execution_count": 50,
   "id": "sought-gasoline",
   "metadata": {},
   "outputs": [
    {
     "data": {
      "image/png": "[encoded data removed]",
      "text/plain": [
       "<Figure size 720x720 with 2 Axes>"
      ]
     },
     "metadata": {
      "needs_background": "light"
     },
     "output_type": "display_data"
    }
   ],
   "source": [
    "fig, axs = plt.subplots(figsize=(10, 10))\n",
    "\n",
    "sns.heatmap(df_train_exploration.drop(['PassengerId'], axis=1).corr(), ax=axs, annot=True, square=True, annot_kws={'size': 14})\n",
    "\n",
    "#axs.tick_params(axis='x', labelsize=14)\n",
    "#axs.tick_params(axis='y', labelsize=14)\n",
    "    \n",
    "axs.set_title('Training Set Correlations', size=15)\n",
    "\n",
    "plt.show()"
   ]
  },
  {
   "cell_type": "markdown",
   "id": "requested-wealth",
   "metadata": {},
   "source": [
    "# Feature Engineering"
   ]
  },
  {
   "cell_type": "code",
   "execution_count": 51,
   "id": "subsequent-chicago",
   "metadata": {},
   "outputs": [],
   "source": [
    "def feature_eng(df):    \n",
    "    #Bin Age and Fare\n",
    "    df['AgeBinned'] = pd.cut(df['Age'], \n",
    "                               [0, 2, 15, 35, 60, 200], \n",
    "                               labels=['infant_0-2', 'child_2-15', 'young adult_15-35','adult_35-60','elderly_over_60']\n",
    "                            )\n",
    "    df['FareBinned'] = pd.cut(df['Fare'], \n",
    "                               [0, 10, 50, 100, 1000], \n",
    "                                labels=['fare_0-10', 'fare_10-50', 'fare_50-100','fare_100-1000']\n",
    "                               )\n",
    "    # Create Deck Feature from Cabin\n",
    "    df['Deck']=df['Cabin'].apply(lambda s: s[0] if pd.notnull(s) else np.NaN)\n",
    "    # Create Family Size Feature from SibSp and Parch  \n",
    "    df['Family_Size_On_Titanic']= df['SibSp'] + df['Parch']\n",
    "    df['Family_Size_On_Titanic_Binned'] = pd.cut(df['Family_Size_On_Titanic'], \n",
    "                                                [-1,0,3, 10], \n",
    "                                                labels=['alone', 'small_family_1-3', 'large_family_over_4']\n",
    "                                               )    \n",
    "    # Create Title Feature from Name\n",
    "    title_mapping_list = ['Mr','Mrs','Miss','Master','Rev','Dr']\n",
    "    df['Title']=df['Name'].str.split(', ', expand=True)[1].str.split('.', expand=True)[0]\n",
    "    df['Title'] = df['Title'].apply(lambda x: x if x in title_list else \"Other\")\n",
    "    \n",
    "    # Create Words Count\n",
    "    df['Words_Count'] = df['Name'].apply(lambda x: len(x.split()))\n",
    "\n",
    "\n",
    "    # Create Ticket Type Feature from Ticket\n",
    "    ticket_list = ['PC','349','347','113','C.A','345','310','350','STO','A/5','SOT','266']\n",
    "    df['Ticket_type'] = df['Ticket'].apply(lambda x: x[0:3])\n",
    "    df['Ticket_type'] = df['Ticket_type'].astype('category')\n",
    "    df['Ticket_type'] = df['Ticket_type'].apply(lambda x: x if x in ticket_list else \"Other\")\n",
    "\n",
    "    \n",
    "    # Drop\n",
    "    cols_to_drop = ['Name','Ticket', 'Cabin', 'PassengerId','SibSp', 'Parch','Family_Size_On_Titanic']\n",
    "    df.drop(cols_to_drop, axis=1, inplace = True)\n",
    "\n",
    "\n",
    "    \n",
    "    return df"
   ]
  },
  {
   "cell_type": "code",
   "execution_count": 52,
   "id": "tired-buddy",
   "metadata": {},
   "outputs": [],
   "source": [
    "df_train = feature_eng(df_train)"
   ]
  },
  {
   "cell_type": "code",
   "execution_count": 53,
   "id": "characteristic-shade",
   "metadata": {},
   "outputs": [],
   "source": [
    "x_test = feature_eng(df_test)"
   ]
  },
  {
   "cell_type": "markdown",
   "id": "gentle-class",
   "metadata": {},
   "source": [
    "# Pre-Processing"
   ]
  },
  {
   "cell_type": "code",
   "execution_count": 54,
   "id": "whole-effectiveness",
   "metadata": {},
   "outputs": [],
   "source": [
    "from sklearn.pipeline import FeatureUnion\n",
    "from sklearn.impute import SimpleImputer\n",
    "from sklearn.preprocessing import OneHotEncoder\n",
    "from sklearn.preprocessing import StandardScaler\n",
    "from sklearn.compose import ColumnTransformer\n",
    "from sklearn.pipeline import Pipeline"
   ]
  },
  {
   "cell_type": "code",
   "execution_count": 55,
   "id": "unsigned-stable",
   "metadata": {},
   "outputs": [],
   "source": [
    "# define transformers\n",
    "si_0 = SimpleImputer(strategy='mean')\n",
    "si_1 = SimpleImputer(strategy='constant', fill_value = 'missing')\n",
    "\n",
    "ss = StandardScaler()\n",
    "ohe = OneHotEncoder(handle_unknown='ignore', sparse=False)\n",
    "# define column groups with same processing\n",
    "num_vars = ['Sex']\n",
    "cat_vars = ['AgeBinned','FareBinned','Pclass','Deck',\n",
    "            'Embarked','Family_Size_On_Titanic_Binned',\n",
    "            'Title','Words_Count', 'Ticket_type']\n",
    "# set up pipelines for each column group\n",
    "numeric_pipe = Pipeline([#('ind', missing_indicator_num) ,\n",
    "                         ('si_0', si_0), \n",
    "                         ('ss', ss)\n",
    "                        ])\n",
    "categorical_pipe = Pipeline([\n",
    "                            ('si_1', si_1),\n",
    "                            ('ohe', ohe)\n",
    "                            ])\n",
    "# set up columnTransformer\n",
    "col_transformer = ColumnTransformer(\n",
    "                    transformers=[\n",
    "                        ('nums', numeric_pipe, num_vars),\n",
    "                        ('cats', categorical_pipe, cat_vars),                        \n",
    "                    ],\n",
    "                    remainder='drop',\n",
    "                    n_jobs=-1\n",
    "                    )"
   ]
  },
  {
   "cell_type": "code",
   "execution_count": 56,
   "id": "conditional-retreat",
   "metadata": {},
   "outputs": [],
   "source": [
    "features = FeatureUnion([\n",
    "    (\"preprocessing\", col_transformer),\n",
    "])"
   ]
  },
  {
   "cell_type": "code",
   "execution_count": 57,
   "id": "alert-participation",
   "metadata": {},
   "outputs": [],
   "source": [
    "#x_train = col_transformer.fit_transform(x_train)\n",
    "#x_val = col_transformer.transform(x_val)\n",
    "#x_test = col_transformer.transform(x_test)"
   ]
  },
  {
   "cell_type": "code",
   "execution_count": 58,
   "id": "broad-positive",
   "metadata": {},
   "outputs": [],
   "source": [
    "import sklearn\n",
    "import warnings"
   ]
  },
  {
   "cell_type": "code",
   "execution_count": 59,
   "id": "unexpected-brass",
   "metadata": {},
   "outputs": [],
   "source": [
    "# function source: https://johaupt.github.io/scikit-learn/tutorial/python/data%20processing/ml%20pipeline/model%20interpretation/columnTransformer_feature_names.html\n",
    "def get_feature_names(column_transformer):\n",
    "    \"\"\"Get feature names from all transformers.\n",
    "    Returns\n",
    "    -------\n",
    "    feature_names : list of strings\n",
    "        Names of the features produced by transform.\n",
    "    \"\"\"\n",
    "    # Remove the internal helper function\n",
    "    #check_is_fitted(column_transformer)\n",
    "    \n",
    "    # Turn loopkup into function for better handling with pipeline later\n",
    "    def get_names(trans):\n",
    "        # >> Original get_feature_names() method\n",
    "        if trans == 'drop' or (\n",
    "                hasattr(column, '__len__') and not len(column)):\n",
    "            return []\n",
    "        if trans == 'passthrough':\n",
    "            if hasattr(column_transformer, '_df_columns'):\n",
    "                if ((not isinstance(column, slice))\n",
    "                        and all(isinstance(col, str) for col in column)):\n",
    "                    return column\n",
    "                else:\n",
    "                    return column_transformer._df_columns[column]\n",
    "            else:\n",
    "                indices = np.arange(column_transformer._n_features)\n",
    "                return ['x%d' % i for i in indices[column]]\n",
    "        if not hasattr(trans, 'get_feature_names'):\n",
    "        # >>> Change: Return input column names if no method avaiable\n",
    "            # Turn error into a warning\n",
    "            warnings.warn(\"Transformer %s (type %s) does not \"\n",
    "                                 \"provide get_feature_names. \"\n",
    "                                 \"Will return input column names if available\"\n",
    "                                 % (str(name), type(trans).__name__))\n",
    "            # For transformers without a get_features_names method, use the input\n",
    "            # names to the column transformer\n",
    "            if column is None:\n",
    "                return []\n",
    "            else:\n",
    "                return [name + \"__\" + f for f in column]\n",
    "\n",
    "        return [name + \"__\" + f for f in trans.get_feature_names()]\n",
    "    \n",
    "    ### Start of processing\n",
    "    feature_names = []\n",
    "    \n",
    "    # Allow transformers to be pipelines. Pipeline steps are named differently, so preprocessing is needed\n",
    "    if type(column_transformer) == sklearn.pipeline.Pipeline:\n",
    "        l_transformers = [(name, trans, None, None) for step, name, trans in column_transformer._iter()]\n",
    "    else:\n",
    "        # For column transformers, follow the original method\n",
    "        l_transformers = list(column_transformer._iter(fitted=True))\n",
    "    \n",
    "    \n",
    "    for name, trans, column, _ in l_transformers: \n",
    "        if type(trans) == sklearn.pipeline.Pipeline:\n",
    "            # Recursive call on pipeline\n",
    "            _names = get_feature_names(trans)\n",
    "            # if pipeline has no transformer that returns names\n",
    "            if len(_names)==0:\n",
    "                _names = [name + \"__\" + f for f in column]\n",
    "            feature_names.extend(_names)\n",
    "        else:\n",
    "            feature_names.extend(get_names(trans))\n",
    "    \n",
    "    return feature_names\n"
   ]
  },
  {
   "cell_type": "markdown",
   "id": "worth-cleaning",
   "metadata": {},
   "source": [
    "# Model"
   ]
  },
  {
   "cell_type": "markdown",
   "id": "assigned-fetish",
   "metadata": {},
   "source": [
    "### Train Validate Split"
   ]
  },
  {
   "cell_type": "code",
   "execution_count": 60,
   "id": "african-afternoon",
   "metadata": {},
   "outputs": [],
   "source": [
    "from sklearn.model_selection import train_test_split,GridSearchCV\n",
    "from sklearn.metrics import accuracy_score, confusion_matrix, classification_report"
   ]
  },
  {
   "cell_type": "code",
   "execution_count": 61,
   "id": "sitting-consultancy",
   "metadata": {},
   "outputs": [],
   "source": [
    "X_train, Y_train = df_train.drop('Survived', axis=1), df_train['Survived']\n",
    "x_train, x_val, y_train, y_val = train_test_split(X_train, Y_train, test_size = .2, random_state = 0)"
   ]
  },
  {
   "cell_type": "markdown",
   "id": "alternative-separate",
   "metadata": {},
   "source": [
    "### Logistic Regression"
   ]
  },
  {
   "cell_type": "code",
   "execution_count": 108,
   "id": "blank-significance",
   "metadata": {},
   "outputs": [],
   "source": [
    "from sklearn.linear_model import LogisticRegression"
   ]
  },
  {
   "cell_type": "code",
   "execution_count": 109,
   "id": "moderate-trauma",
   "metadata": {},
   "outputs": [],
   "source": [
    "classifier_pipeline = Pipeline(steps=[\n",
    "    (\"features\", features),\n",
    "    (\"lr\", LogisticRegression(\n",
    "        max_iter=10000,\n",
    "        n_jobs=-1, verbose=False, \n",
    "        random_state=0\n",
    "    )) \n",
    "])\n",
    "\n",
    "# Declare dynamic parameters here\n",
    "pipeline_params = {\n",
    "    \"lr__C\": [1000, 100, 10, 1, 0.1]\n",
    "}"
   ]
  },
  {
   "cell_type": "code",
   "execution_count": 110,
   "id": "sophisticated-cholesterol",
   "metadata": {
    "scrolled": true
   },
   "outputs": [
    {
     "data": {
      "text/plain": [
       "GridSearchCV(cv=3,\n",
       "             estimator=Pipeline(steps=[('features',\n",
       "                                        FeatureUnion(transformer_list=[('preprocessing',\n",
       "                                                                        ColumnTransformer(n_jobs=-1,\n",
       "                                                                                          transformers=[('nums',\n",
       "                                                                                                         Pipeline(steps=[('si_0',\n",
       "                                                                                                                          SimpleImputer()),\n",
       "                                                                                                                         ('ss',\n",
       "                                                                                                                          StandardScaler())]),\n",
       "                                                                                                         ['Sex']),\n",
       "                                                                                                        ('cats',\n",
       "                                                                                                         Pipeline(steps=[('si_1',\n",
       "                                                                                                                          SimpleImputer(fill_value='missing',\n",
       "                                                                                                                                        strategy='constant')),\n",
       "                                                                                                                         ('ohe',\n",
       "                                                                                                                          OneHotEncoder(handle_unknown='ignore',\n",
       "                                                                                                                                        sparse=False))]),\n",
       "                                                                                                         ['AgeBinned',\n",
       "                                                                                                          'FareBinned',\n",
       "                                                                                                          'Pclass',\n",
       "                                                                                                          'Deck',\n",
       "                                                                                                          'Embarked',\n",
       "                                                                                                          'Family_Size_On_Titanic_Binned',\n",
       "                                                                                                          'Title',\n",
       "                                                                                                          'Words_Count',\n",
       "                                                                                                          'Ticket_type'])]))])),\n",
       "                                       ('lr',\n",
       "                                        LogisticRegression(max_iter=10000,\n",
       "                                                           n_jobs=-1,\n",
       "                                                           random_state=0,\n",
       "                                                           verbose=False))]),\n",
       "             param_grid={'lr__C': [1000, 100, 10, 1, 0.1]}, scoring='roc_auc',\n",
       "             verbose=False)"
      ]
     },
     "execution_count": 110,
     "metadata": {},
     "output_type": "execute_result"
    }
   ],
   "source": [
    "search_lr = GridSearchCV(\n",
    "    classifier_pipeline, pipeline_params, \n",
    "    scoring=\"roc_auc\", cv=5, verbose=False\n",
    ")\n",
    "search_lr.fit(x_train, y_train)"
   ]
  },
  {
   "cell_type": "code",
   "execution_count": 111,
   "id": "large-growth",
   "metadata": {},
   "outputs": [],
   "source": [
    "#sklearn.metrics.SCORERS.keys()"
   ]
  },
  {
   "cell_type": "code",
   "execution_count": 119,
   "id": "round-cache",
   "metadata": {},
   "outputs": [
    {
     "name": "stdout",
     "output_type": "stream",
     "text": [
      "Best parameter (ROC AUC score=0.861):\n",
      "{'lr__C': 1}\n"
     ]
    }
   ],
   "source": [
    "print(\"Best parameter (ROC AUC score=%0.3f):\" % search_lr.best_score_)\n",
    "print(search_lr.best_params_)"
   ]
  },
  {
   "cell_type": "code",
   "execution_count": 113,
   "id": "sound-fishing",
   "metadata": {},
   "outputs": [],
   "source": [
    "from sklearn.metrics import accuracy_score"
   ]
  },
  {
   "cell_type": "code",
   "execution_count": 114,
   "id": "wound-martin",
   "metadata": {},
   "outputs": [
    {
     "name": "stdout",
     "output_type": "stream",
     "text": [
      "Train's accuracy: 0.8398876404494382\n",
      "Valid's accuracy: 0.8156424581005587\n"
     ]
    }
   ],
   "source": [
    "search_lr.predict_proba(x_val)\n",
    "train_score = accuracy_score(y_train, search_lr.predict(x_train))\n",
    "valid_score = accuracy_score(y_val, search_lr.predict(x_val))\n",
    "print(f\"Train's accuracy: {train_score}\")\n",
    "print(f\"Valid's accuracy: {valid_score}\")\n"
   ]
  },
  {
   "cell_type": "code",
   "execution_count": 115,
   "id": "bearing-vancouver",
   "metadata": {},
   "outputs": [
    {
     "name": "stdout",
     "output_type": "stream",
     "text": [
      "              precision    recall  f1-score   support\n",
      "\n",
      "           0       0.85      0.90      0.87       439\n",
      "           1       0.82      0.75      0.78       273\n",
      "\n",
      "    accuracy                           0.84       712\n",
      "   macro avg       0.83      0.82      0.83       712\n",
      "weighted avg       0.84      0.84      0.84       712\n",
      "\n"
     ]
    }
   ],
   "source": [
    "print(classification_report(y_train, search_lr.predict(x_train)))"
   ]
  },
  {
   "cell_type": "code",
   "execution_count": 116,
   "id": "standard-england",
   "metadata": {},
   "outputs": [
    {
     "name": "stdout",
     "output_type": "stream",
     "text": [
      "              precision    recall  f1-score   support\n",
      "\n",
      "           0       0.85      0.85      0.85       110\n",
      "           1       0.76      0.77      0.76        69\n",
      "\n",
      "    accuracy                           0.82       179\n",
      "   macro avg       0.81      0.81      0.81       179\n",
      "weighted avg       0.82      0.82      0.82       179\n",
      "\n"
     ]
    }
   ],
   "source": [
    "print(classification_report(y_val, search_lr.predict(x_val)))"
   ]
  },
  {
   "cell_type": "code",
   "execution_count": 117,
   "id": "extraordinary-stanley",
   "metadata": {},
   "outputs": [
    {
     "name": "stdout",
     "output_type": "stream",
     "text": [
      "(418, 2)\n"
     ]
    },
    {
     "data": {
      "text/html": [
       "<div>\n",
       "<style scoped>\n",
       "    .dataframe tbody tr th:only-of-type {\n",
       "        vertical-align: middle;\n",
       "    }\n",
       "\n",
       "    .dataframe tbody tr th {\n",
       "        vertical-align: top;\n",
       "    }\n",
       "\n",
       "    .dataframe thead th {\n",
       "        text-align: right;\n",
       "    }\n",
       "</style>\n",
       "<table border=\"1\" class=\"dataframe\">\n",
       "  <thead>\n",
       "    <tr style=\"text-align: right;\">\n",
       "      <th></th>\n",
       "      <th>PassengerId</th>\n",
       "      <th>Survived</th>\n",
       "    </tr>\n",
       "  </thead>\n",
       "  <tbody>\n",
       "    <tr>\n",
       "      <th>0</th>\n",
       "      <td>892</td>\n",
       "      <td>0</td>\n",
       "    </tr>\n",
       "    <tr>\n",
       "      <th>1</th>\n",
       "      <td>893</td>\n",
       "      <td>1</td>\n",
       "    </tr>\n",
       "    <tr>\n",
       "      <th>2</th>\n",
       "      <td>894</td>\n",
       "      <td>0</td>\n",
       "    </tr>\n",
       "    <tr>\n",
       "      <th>3</th>\n",
       "      <td>895</td>\n",
       "      <td>0</td>\n",
       "    </tr>\n",
       "    <tr>\n",
       "      <th>4</th>\n",
       "      <td>896</td>\n",
       "      <td>1</td>\n",
       "    </tr>\n",
       "  </tbody>\n",
       "</table>\n",
       "</div>"
      ],
      "text/plain": [
       "   PassengerId  Survived\n",
       "0          892         0\n",
       "1          893         1\n",
       "2          894         0\n",
       "3          895         0\n",
       "4          896         1"
      ]
     },
     "execution_count": 117,
     "metadata": {},
     "output_type": "execute_result"
    }
   ],
   "source": [
    "df_test = pd.read_csv(\"test.csv\")\n",
    "submission = pd.DataFrame({\n",
    "    \"PassengerId\": df_test[\"PassengerId\"],\n",
    "    \"Survived\": search_lr.predict(x_test)\n",
    "})\n",
    "print(submission.shape)\n",
    "submission.head()"
   ]
  },
  {
   "cell_type": "code",
   "execution_count": 118,
   "id": "criminal-prototype",
   "metadata": {},
   "outputs": [],
   "source": [
    "submission.to_csv(\"submission_lr.csv\", index=False)"
   ]
  },
  {
   "cell_type": "markdown",
   "id": "structural-magazine",
   "metadata": {},
   "source": [
    "### Random Forest"
   ]
  },
  {
   "cell_type": "code",
   "execution_count": 120,
   "id": "photographic-belgium",
   "metadata": {},
   "outputs": [],
   "source": [
    "from sklearn.ensemble import RandomForestClassifier"
   ]
  },
  {
   "cell_type": "code",
   "execution_count": 147,
   "id": "fabulous-burning",
   "metadata": {},
   "outputs": [],
   "source": [
    "classifier_pipeline = Pipeline(steps=[\n",
    "    (\"features\", features),\n",
    "    (\"rfc\", RandomForestClassifier(random_state=0)) \n",
    "])\n",
    "\n",
    "# Declare dynamic parameters here\n",
    "pipeline_params = {\n",
    "    'rfc__max_depth': [3,5,7,9,11],\n",
    "    'rfc__max_features':[\"sqrt\", \"log2\"],\n",
    "    'rfc__max_leaf_nodes': [6,8,10],\n",
    "}"
   ]
  },
  {
   "cell_type": "code",
   "execution_count": 148,
   "id": "super-seattle",
   "metadata": {
    "scrolled": true
   },
   "outputs": [
    {
     "data": {
      "text/plain": [
       "GridSearchCV(cv=10,\n",
       "             estimator=Pipeline(steps=[('features',\n",
       "                                        FeatureUnion(transformer_list=[('preprocessing',\n",
       "                                                                        ColumnTransformer(n_jobs=-1,\n",
       "                                                                                          transformers=[('nums',\n",
       "                                                                                                         Pipeline(steps=[('si_0',\n",
       "                                                                                                                          SimpleImputer()),\n",
       "                                                                                                                         ('ss',\n",
       "                                                                                                                          StandardScaler())]),\n",
       "                                                                                                         ['Sex']),\n",
       "                                                                                                        ('cats',\n",
       "                                                                                                         Pipeline(steps=[('si_1',\n",
       "                                                                                                                          SimpleImputer(fill_value='missing',\n",
       "                                                                                                                                        strategy='constant')),\n",
       "                                                                                                                         ('ohe',\n",
       "                                                                                                                          OneHotEncoder(handle_un...e',\n",
       "                                                                                                                                        sparse=False))]),\n",
       "                                                                                                         ['AgeBinned',\n",
       "                                                                                                          'FareBinned',\n",
       "                                                                                                          'Pclass',\n",
       "                                                                                                          'Deck',\n",
       "                                                                                                          'Embarked',\n",
       "                                                                                                          'Family_Size_On_Titanic_Binned',\n",
       "                                                                                                          'Title',\n",
       "                                                                                                          'Words_Count',\n",
       "                                                                                                          'Ticket_type'])]))])),\n",
       "                                       ('rfc',\n",
       "                                        RandomForestClassifier(random_state=0))]),\n",
       "             n_jobs=-1,\n",
       "             param_grid={'rfc__max_depth': [3, 5, 7, 9, 11],\n",
       "                         'rfc__max_features': ['sqrt', 'log2'],\n",
       "                         'rfc__max_leaf_nodes': [6, 8, 10]},\n",
       "             scoring='roc_auc', verbose=False)"
      ]
     },
     "execution_count": 148,
     "metadata": {},
     "output_type": "execute_result"
    }
   ],
   "source": [
    "search_rf = GridSearchCV(\n",
    "    classifier_pipeline, pipeline_params, \n",
    "    scoring=\"roc_auc\", cv=10, n_jobs=-1,verbose=False\n",
    ")\n",
    "search_rf.fit(x_train, y_train)"
   ]
  },
  {
   "cell_type": "code",
   "execution_count": 149,
   "id": "defined-battlefield",
   "metadata": {
    "scrolled": true
   },
   "outputs": [
    {
     "name": "stdout",
     "output_type": "stream",
     "text": [
      "Best parameter (ROC AUC score=0.859):\n",
      "{'rfc__max_depth': 9, 'rfc__max_features': 'sqrt', 'rfc__max_leaf_nodes': 10}\n"
     ]
    }
   ],
   "source": [
    "print(\"Best parameter (ROC AUC score=%0.3f):\" % search_rf.best_score_)\n",
    "print(search_rf.best_params_)"
   ]
  },
  {
   "cell_type": "code",
   "execution_count": 150,
   "id": "unlikely-expert",
   "metadata": {},
   "outputs": [
    {
     "name": "stdout",
     "output_type": "stream",
     "text": [
      "Train's accuracy: 0.8314606741573034\n",
      "Valid's accuracy: 0.8100558659217877\n"
     ]
    }
   ],
   "source": [
    "search_rf.predict_proba(x_val)\n",
    "train_score = accuracy_score(y_train, search_rf.predict(x_train))\n",
    "valid_score = accuracy_score(y_val, search_rf.predict(x_val))\n",
    "print(f\"Train's accuracy: {train_score}\")\n",
    "print(f\"Valid's accuracy: {valid_score}\")"
   ]
  },
  {
   "cell_type": "code",
   "execution_count": 151,
   "id": "linear-torture",
   "metadata": {},
   "outputs": [
    {
     "name": "stdout",
     "output_type": "stream",
     "text": [
      "              precision    recall  f1-score   support\n",
      "\n",
      "           0       0.84      0.90      0.87       439\n",
      "           1       0.82      0.71      0.76       273\n",
      "\n",
      "    accuracy                           0.83       712\n",
      "   macro avg       0.83      0.81      0.82       712\n",
      "weighted avg       0.83      0.83      0.83       712\n",
      "\n"
     ]
    }
   ],
   "source": [
    "print(classification_report(y_train, search_rf.predict(x_train)))"
   ]
  },
  {
   "cell_type": "code",
   "execution_count": 152,
   "id": "criminal-fifteen",
   "metadata": {},
   "outputs": [
    {
     "name": "stdout",
     "output_type": "stream",
     "text": [
      "              precision    recall  f1-score   support\n",
      "\n",
      "           0       0.83      0.87      0.85       110\n",
      "           1       0.78      0.71      0.74        69\n",
      "\n",
      "    accuracy                           0.81       179\n",
      "   macro avg       0.80      0.79      0.80       179\n",
      "weighted avg       0.81      0.81      0.81       179\n",
      "\n"
     ]
    }
   ],
   "source": [
    "print(classification_report(y_val, search_rf.predict(x_val)))"
   ]
  },
  {
   "cell_type": "code",
   "execution_count": 153,
   "id": "agricultural-suspect",
   "metadata": {},
   "outputs": [
    {
     "name": "stdout",
     "output_type": "stream",
     "text": [
      "(418, 2)\n"
     ]
    },
    {
     "data": {
      "text/html": [
       "<div>\n",
       "<style scoped>\n",
       "    .dataframe tbody tr th:only-of-type {\n",
       "        vertical-align: middle;\n",
       "    }\n",
       "\n",
       "    .dataframe tbody tr th {\n",
       "        vertical-align: top;\n",
       "    }\n",
       "\n",
       "    .dataframe thead th {\n",
       "        text-align: right;\n",
       "    }\n",
       "</style>\n",
       "<table border=\"1\" class=\"dataframe\">\n",
       "  <thead>\n",
       "    <tr style=\"text-align: right;\">\n",
       "      <th></th>\n",
       "      <th>PassengerId</th>\n",
       "      <th>Survived</th>\n",
       "    </tr>\n",
       "  </thead>\n",
       "  <tbody>\n",
       "    <tr>\n",
       "      <th>0</th>\n",
       "      <td>892</td>\n",
       "      <td>0</td>\n",
       "    </tr>\n",
       "    <tr>\n",
       "      <th>1</th>\n",
       "      <td>893</td>\n",
       "      <td>1</td>\n",
       "    </tr>\n",
       "    <tr>\n",
       "      <th>2</th>\n",
       "      <td>894</td>\n",
       "      <td>0</td>\n",
       "    </tr>\n",
       "    <tr>\n",
       "      <th>3</th>\n",
       "      <td>895</td>\n",
       "      <td>0</td>\n",
       "    </tr>\n",
       "    <tr>\n",
       "      <th>4</th>\n",
       "      <td>896</td>\n",
       "      <td>1</td>\n",
       "    </tr>\n",
       "  </tbody>\n",
       "</table>\n",
       "</div>"
      ],
      "text/plain": [
       "   PassengerId  Survived\n",
       "0          892         0\n",
       "1          893         1\n",
       "2          894         0\n",
       "3          895         0\n",
       "4          896         1"
      ]
     },
     "execution_count": 153,
     "metadata": {},
     "output_type": "execute_result"
    }
   ],
   "source": [
    "df_test = pd.read_csv(\"test.csv\")\n",
    "submission = pd.DataFrame({\n",
    "    \"PassengerId\": df_test[\"PassengerId\"],\n",
    "    \"Survived\": search_rf.predict(x_test)\n",
    "})\n",
    "print(submission.shape)\n",
    "submission.head()"
   ]
  },
  {
   "cell_type": "code",
   "execution_count": 154,
   "id": "thrown-comparative",
   "metadata": {},
   "outputs": [],
   "source": [
    "submission.to_csv(\"submission_randomforest.csv\", index=False)"
   ]
  },
  {
   "cell_type": "markdown",
   "id": "combined-second",
   "metadata": {},
   "source": [
    "### XGBoost\n"
   ]
  },
  {
   "cell_type": "code",
   "execution_count": 125,
   "id": "alpha-panel",
   "metadata": {},
   "outputs": [],
   "source": [
    "from xgboost import XGBClassifier"
   ]
  },
  {
   "cell_type": "code",
   "execution_count": 126,
   "id": "worse-mother",
   "metadata": {},
   "outputs": [],
   "source": [
    "classifier_pipeline = Pipeline(steps=[\n",
    "    (\"features\", features),\n",
    "    (\"xgb\", XGBClassifier(objective= 'binary:logistic',\n",
    "                          eval_metric='aucpr',\n",
    "                          random_state=0)) \n",
    "])\n",
    "\n",
    "# Declare dynamic parameters here\n",
    "pipeline_params = {\n",
    "    'xgb__n_estimators': [10, 50,100,1000],\n",
    "    'xgb__max_depth': [3, 5, 9],\n",
    "    'xgb__learning_rate': [0.01, 0.05, 0.1],\n",
    "    'xgb__early_stopping_rounds': [3, 5, 10, 15],    \n",
    "}"
   ]
  },
  {
   "cell_type": "code",
   "execution_count": 127,
   "id": "bridal-conspiracy",
   "metadata": {},
   "outputs": [
    {
     "data": {
      "text/plain": [
       "dict_keys(['explained_variance', 'r2', 'max_error', 'neg_median_absolute_error', 'neg_mean_absolute_error', 'neg_mean_squared_error', 'neg_mean_squared_log_error', 'neg_root_mean_squared_error', 'neg_mean_poisson_deviance', 'neg_mean_gamma_deviance', 'accuracy', 'roc_auc', 'roc_auc_ovr', 'roc_auc_ovo', 'roc_auc_ovr_weighted', 'roc_auc_ovo_weighted', 'balanced_accuracy', 'average_precision', 'neg_log_loss', 'neg_brier_score', 'adjusted_rand_score', 'homogeneity_score', 'completeness_score', 'v_measure_score', 'mutual_info_score', 'adjusted_mutual_info_score', 'normalized_mutual_info_score', 'fowlkes_mallows_score', 'precision', 'precision_macro', 'precision_micro', 'precision_samples', 'precision_weighted', 'recall', 'recall_macro', 'recall_micro', 'recall_samples', 'recall_weighted', 'f1', 'f1_macro', 'f1_micro', 'f1_samples', 'f1_weighted', 'jaccard', 'jaccard_macro', 'jaccard_micro', 'jaccard_samples', 'jaccard_weighted'])"
      ]
     },
     "execution_count": 127,
     "metadata": {},
     "output_type": "execute_result"
    }
   ],
   "source": [
    "sklearn.metrics.SCORERS.keys()"
   ]
  },
  {
   "cell_type": "code",
   "execution_count": 128,
   "id": "documentary-density",
   "metadata": {
    "scrolled": true
   },
   "outputs": [
    {
     "name": "stderr",
     "output_type": "stream",
     "text": [
      "/usr/local/lib/python3.9/site-packages/xgboost/sklearn.py:888: UserWarning: The use of label encoder in XGBClassifier is deprecated and will be removed in a future release. To remove this warning, do the following: 1) Pass option use_label_encoder=False when constructing XGBClassifier object; and 2) Encode your labels (y) as integers starting with 0, i.e. 0, 1, 2, ..., [num_class - 1].\n",
      "  warnings.warn(label_encoder_deprecation_msg, UserWarning)\n"
     ]
    },
    {
     "name": "stdout",
     "output_type": "stream",
     "text": [
      "[09:26:13] WARNING: /Users/travis/build/dmlc/xgboost/src/learner.cc:541: \n",
      "Parameters: { early_stopping_rounds } might not be used.\n",
      "\n",
      "  This may not be accurate due to some parameters are only used in language bindings but\n",
      "  passed down to XGBoost core.  Or some parameters are not used but slip through this\n",
      "  verification. Please open an issue if you find above cases.\n",
      "\n",
      "\n"
     ]
    },
    {
     "data": {
      "text/plain": [
       "GridSearchCV(cv=5,\n",
       "             estimator=Pipeline(steps=[('features',\n",
       "                                        FeatureUnion(transformer_list=[('preprocessing',\n",
       "                                                                        ColumnTransformer(n_jobs=-1,\n",
       "                                                                                          transformers=[('nums',\n",
       "                                                                                                         Pipeline(steps=[('si_0',\n",
       "                                                                                                                          SimpleImputer()),\n",
       "                                                                                                                         ('ss',\n",
       "                                                                                                                          StandardScaler())]),\n",
       "                                                                                                         ['Sex']),\n",
       "                                                                                                        ('cats',\n",
       "                                                                                                         Pipeline(steps=[('si_1',\n",
       "                                                                                                                          SimpleImputer(fill_value='missing',\n",
       "                                                                                                                                        strategy='constant')),\n",
       "                                                                                                                         ('ohe',\n",
       "                                                                                                                          OneHotEncoder(handle_unk...\n",
       "                                                      num_parallel_tree=None,\n",
       "                                                      random_state=0,\n",
       "                                                      reg_alpha=None,\n",
       "                                                      reg_lambda=None,\n",
       "                                                      scale_pos_weight=None,\n",
       "                                                      subsample=None,\n",
       "                                                      tree_method=None,\n",
       "                                                      validate_parameters=None,\n",
       "                                                      verbosity=None))]),\n",
       "             n_jobs=-1,\n",
       "             param_grid={'xgb__early_stopping_rounds': [3, 5, 10, 15],\n",
       "                         'xgb__learning_rate': [0.01, 0.05, 0.1],\n",
       "                         'xgb__max_depth': [3, 5, 9],\n",
       "                         'xgb__n_estimators': [10, 50, 100, 1000]},\n",
       "             scoring='accuracy', verbose=False)"
      ]
     },
     "execution_count": 128,
     "metadata": {},
     "output_type": "execute_result"
    }
   ],
   "source": [
    "search_xgb = GridSearchCV(\n",
    "    classifier_pipeline, pipeline_params, \n",
    "    scoring=\"accuracy\", cv=5, n_jobs=-1,verbose=False\n",
    ")\n",
    "search_xgb.fit(x_train, y_train)"
   ]
  },
  {
   "cell_type": "code",
   "execution_count": 129,
   "id": "polyphonic-arizona",
   "metadata": {},
   "outputs": [
    {
     "name": "stdout",
     "output_type": "stream",
     "text": [
      "Best parameter (roc_auc=0.829):\n",
      "{'xgb__early_stopping_rounds': 3, 'xgb__learning_rate': 0.1, 'xgb__max_depth': 3, 'xgb__n_estimators': 100}\n"
     ]
    }
   ],
   "source": [
    "print(\"Best parameter (roc_auc=%0.3f):\" % search_xgb.best_score_)\n",
    "print(search_xgb.best_params_)"
   ]
  },
  {
   "cell_type": "code",
   "execution_count": 130,
   "id": "democratic-squad",
   "metadata": {},
   "outputs": [
    {
     "name": "stdout",
     "output_type": "stream",
     "text": [
      "Train's accuracy: 0.8595505617977528\n",
      "Valid's accuracy: 0.8044692737430168\n"
     ]
    }
   ],
   "source": [
    "search_xgb.predict_proba(x_val)\n",
    "train_score = accuracy_score(y_train, search_xgb.predict(x_train))\n",
    "valid_score = accuracy_score(y_val, search_xgb.predict(x_val))\n",
    "print(f\"Train's accuracy: {train_score}\")\n",
    "print(f\"Valid's accuracy: {valid_score}\")"
   ]
  },
  {
   "cell_type": "code",
   "execution_count": 131,
   "id": "finnish-greek",
   "metadata": {},
   "outputs": [
    {
     "name": "stdout",
     "output_type": "stream",
     "text": [
      "              precision    recall  f1-score   support\n",
      "\n",
      "           0       0.87      0.91      0.89       439\n",
      "           1       0.84      0.78      0.81       273\n",
      "\n",
      "    accuracy                           0.86       712\n",
      "   macro avg       0.86      0.84      0.85       712\n",
      "weighted avg       0.86      0.86      0.86       712\n",
      "\n"
     ]
    }
   ],
   "source": [
    "print(classification_report(y_train, search_xgb.predict(x_train)))"
   ]
  },
  {
   "cell_type": "code",
   "execution_count": 132,
   "id": "express-double",
   "metadata": {},
   "outputs": [
    {
     "name": "stdout",
     "output_type": "stream",
     "text": [
      "              precision    recall  f1-score   support\n",
      "\n",
      "           0       0.83      0.85      0.84       110\n",
      "           1       0.76      0.72      0.74        69\n",
      "\n",
      "    accuracy                           0.80       179\n",
      "   macro avg       0.79      0.79      0.79       179\n",
      "weighted avg       0.80      0.80      0.80       179\n",
      "\n"
     ]
    }
   ],
   "source": [
    "print(classification_report(y_val, search_xgb.predict(x_val)))"
   ]
  },
  {
   "cell_type": "code",
   "execution_count": 133,
   "id": "piano-invite",
   "metadata": {},
   "outputs": [
    {
     "name": "stdout",
     "output_type": "stream",
     "text": [
      "(418, 2)\n"
     ]
    },
    {
     "data": {
      "text/html": [
       "<div>\n",
       "<style scoped>\n",
       "    .dataframe tbody tr th:only-of-type {\n",
       "        vertical-align: middle;\n",
       "    }\n",
       "\n",
       "    .dataframe tbody tr th {\n",
       "        vertical-align: top;\n",
       "    }\n",
       "\n",
       "    .dataframe thead th {\n",
       "        text-align: right;\n",
       "    }\n",
       "</style>\n",
       "<table border=\"1\" class=\"dataframe\">\n",
       "  <thead>\n",
       "    <tr style=\"text-align: right;\">\n",
       "      <th></th>\n",
       "      <th>PassengerId</th>\n",
       "      <th>Survived</th>\n",
       "    </tr>\n",
       "  </thead>\n",
       "  <tbody>\n",
       "    <tr>\n",
       "      <th>0</th>\n",
       "      <td>892</td>\n",
       "      <td>0</td>\n",
       "    </tr>\n",
       "    <tr>\n",
       "      <th>1</th>\n",
       "      <td>893</td>\n",
       "      <td>0</td>\n",
       "    </tr>\n",
       "    <tr>\n",
       "      <th>2</th>\n",
       "      <td>894</td>\n",
       "      <td>0</td>\n",
       "    </tr>\n",
       "    <tr>\n",
       "      <th>3</th>\n",
       "      <td>895</td>\n",
       "      <td>0</td>\n",
       "    </tr>\n",
       "    <tr>\n",
       "      <th>4</th>\n",
       "      <td>896</td>\n",
       "      <td>1</td>\n",
       "    </tr>\n",
       "  </tbody>\n",
       "</table>\n",
       "</div>"
      ],
      "text/plain": [
       "   PassengerId  Survived\n",
       "0          892         0\n",
       "1          893         0\n",
       "2          894         0\n",
       "3          895         0\n",
       "4          896         1"
      ]
     },
     "execution_count": 133,
     "metadata": {},
     "output_type": "execute_result"
    }
   ],
   "source": [
    "df_test = pd.read_csv(\"test.csv\")\n",
    "submission = pd.DataFrame({\n",
    "    \"PassengerId\": df_test[\"PassengerId\"],\n",
    "    \"Survived\": search_xgb.predict(x_test)\n",
    "})\n",
    "print(submission.shape)\n",
    "submission.head()"
   ]
  },
  {
   "cell_type": "code",
   "execution_count": 134,
   "id": "medium-fault",
   "metadata": {},
   "outputs": [],
   "source": [
    "submission.to_csv(\"submission_xgboost.csv\", index=False)"
   ]
  },
  {
   "cell_type": "code",
   "execution_count": null,
   "id": "functioning-discount",
   "metadata": {},
   "outputs": [],
   "source": []
  },
  {
   "cell_type": "code",
   "execution_count": null,
   "id": "interim-marker",
   "metadata": {},
   "outputs": [],
   "source": []
  },
  {
   "cell_type": "code",
   "execution_count": null,
   "id": "colored-journey",
   "metadata": {},
   "outputs": [],
   "source": []
  },
  {
   "cell_type": "code",
   "execution_count": null,
   "id": "strategic-fortune",
   "metadata": {},
   "outputs": [],
   "source": []
  },
  {
   "cell_type": "code",
   "execution_count": null,
   "id": "latest-thomson",
   "metadata": {},
   "outputs": [],
   "source": []
  },
  {
   "cell_type": "code",
   "execution_count": null,
   "id": "binding-installation",
   "metadata": {},
   "outputs": [],
   "source": []
  },
  {
   "cell_type": "code",
   "execution_count": null,
   "id": "norwegian-handle",
   "metadata": {},
   "outputs": [],
   "source": []
  },
  {
   "cell_type": "code",
   "execution_count": null,
   "id": "planned-vampire",
   "metadata": {},
   "outputs": [],
   "source": []
  },
  {
   "cell_type": "code",
   "execution_count": null,
   "id": "essential-integration",
   "metadata": {},
   "outputs": [],
   "source": []
  },
  {
   "cell_type": "code",
   "execution_count": null,
   "id": "linear-metro",
   "metadata": {},
   "outputs": [],
   "source": []
  },
  {
   "cell_type": "code",
   "execution_count": null,
   "id": "distinguished-immunology",
   "metadata": {},
   "outputs": [],
   "source": []
  },
  {
   "cell_type": "code",
   "execution_count": null,
   "id": "decreased-mechanism",
   "metadata": {},
   "outputs": [],
   "source": []
  },
  {
   "cell_type": "code",
   "execution_count": null,
   "id": "illegal-istanbul",
   "metadata": {},
   "outputs": [],
   "source": []
  },
  {
   "cell_type": "code",
   "execution_count": null,
   "id": "secure-founder",
   "metadata": {},
   "outputs": [],
   "source": []
  },
  {
   "cell_type": "code",
   "execution_count": null,
   "id": "electoral-roommate",
   "metadata": {},
   "outputs": [],
   "source": []
  },
  {
   "cell_type": "code",
   "execution_count": null,
   "id": "vulnerable-merchandise",
   "metadata": {},
   "outputs": [],
   "source": []
  },
  {
   "cell_type": "code",
   "execution_count": null,
   "id": "significant-protest",
   "metadata": {},
   "outputs": [],
   "source": []
  },
  {
   "cell_type": "code",
   "execution_count": null,
   "id": "optical-killer",
   "metadata": {},
   "outputs": [],
   "source": []
  }
 ],
 "metadata": {
  "kernelspec": {
   "display_name": "Python 3",
   "language": "python",
   "name": "python3"
  },
  "language_info": {
   "codemirror_mode": {
    "name": "ipython",
    "version": 3
   },
   "file_extension": ".py",
   "mimetype": "text/x-python",
   "name": "python",
   "nbconvert_exporter": "python",
   "pygments_lexer": "ipython3",
   "version": "3.9.0"
  }
 },
 "nbformat": 4,
 "nbformat_minor": 5
}
