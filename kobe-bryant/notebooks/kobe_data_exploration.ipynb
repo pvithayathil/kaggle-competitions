{
 "cells": [
  {
   "cell_type": "markdown",
   "id": "indoor-inspector",
   "metadata": {},
   "source": [
    "# Imports"
   ]
  },
  {
   "cell_type": "code",
   "execution_count": 1,
   "id": "dangerous-marina",
   "metadata": {},
   "outputs": [],
   "source": [
    "import pandas as pd\n",
    "import os"
   ]
  },
  {
   "cell_type": "code",
   "execution_count": 2,
   "id": "anonymous-desperate",
   "metadata": {},
   "outputs": [],
   "source": [
    "import seaborn as sns\n",
    "import matplotlib.pyplot as plt\n",
    "sns.set(style=\"white\")\n",
    "%matplotlib inline"
   ]
  },
  {
   "cell_type": "markdown",
   "id": "comfortable-guard",
   "metadata": {},
   "source": [
    "# Load File"
   ]
  },
  {
   "cell_type": "code",
   "execution_count": 3,
   "id": "rising-chassis",
   "metadata": {},
   "outputs": [],
   "source": [
    "filepath = '~/homebound/kaggle/kobe-bryant/data/raw/data.csv'"
   ]
  },
  {
   "cell_type": "code",
   "execution_count": 29,
   "id": "absent-watson",
   "metadata": {},
   "outputs": [],
   "source": [
    "data = pd.read_csv(filepath,parse_dates=['game_date'])"
   ]
  },
  {
   "cell_type": "code",
   "execution_count": 32,
   "id": "rational-athletics",
   "metadata": {},
   "outputs": [],
   "source": [
    "data.to_csv('~/homebound/kaggle/kobe-bryant/data/processed/data.csv')"
   ]
  },
  {
   "cell_type": "markdown",
   "id": "initial-smell",
   "metadata": {},
   "source": [
    "# Data Exploration"
   ]
  },
  {
   "cell_type": "code",
   "execution_count": 30,
   "id": "modern-struggle",
   "metadata": {},
   "outputs": [
    {
     "data": {
      "text/html": [
       "<div>\n",
       "<style scoped>\n",
       "    .dataframe tbody tr th:only-of-type {\n",
       "        vertical-align: middle;\n",
       "    }\n",
       "\n",
       "    .dataframe tbody tr th {\n",
       "        vertical-align: top;\n",
       "    }\n",
       "\n",
       "    .dataframe thead th {\n",
       "        text-align: right;\n",
       "    }\n",
       "</style>\n",
       "<table border=\"1\" class=\"dataframe\">\n",
       "  <thead>\n",
       "    <tr style=\"text-align: right;\">\n",
       "      <th></th>\n",
       "      <th>action_type</th>\n",
       "      <th>combined_shot_type</th>\n",
       "      <th>game_event_id</th>\n",
       "      <th>game_id</th>\n",
       "      <th>lat</th>\n",
       "      <th>loc_x</th>\n",
       "      <th>loc_y</th>\n",
       "      <th>lon</th>\n",
       "      <th>minutes_remaining</th>\n",
       "      <th>period</th>\n",
       "      <th>...</th>\n",
       "      <th>shot_type</th>\n",
       "      <th>shot_zone_area</th>\n",
       "      <th>shot_zone_basic</th>\n",
       "      <th>shot_zone_range</th>\n",
       "      <th>team_id</th>\n",
       "      <th>team_name</th>\n",
       "      <th>game_date</th>\n",
       "      <th>matchup</th>\n",
       "      <th>opponent</th>\n",
       "      <th>shot_id</th>\n",
       "    </tr>\n",
       "  </thead>\n",
       "  <tbody>\n",
       "    <tr>\n",
       "      <th>2183</th>\n",
       "      <td>Jump Shot</td>\n",
       "      <td>Jump Shot</td>\n",
       "      <td>2</td>\n",
       "      <td>20100525</td>\n",
       "      <td>33.9513</td>\n",
       "      <td>150</td>\n",
       "      <td>93</td>\n",
       "      <td>-118.1198</td>\n",
       "      <td>11</td>\n",
       "      <td>1</td>\n",
       "      <td>...</td>\n",
       "      <td>2PT Field Goal</td>\n",
       "      <td>Right Side(R)</td>\n",
       "      <td>Mid-Range</td>\n",
       "      <td>16-24 ft.</td>\n",
       "      <td>1610612747</td>\n",
       "      <td>Los Angeles Lakers</td>\n",
       "      <td>2002-01-14</td>\n",
       "      <td>LAL vs. MEM</td>\n",
       "      <td>MEM</td>\n",
       "      <td>2184</td>\n",
       "    </tr>\n",
       "    <tr>\n",
       "      <th>7280</th>\n",
       "      <td>Jump Shot</td>\n",
       "      <td>Jump Shot</td>\n",
       "      <td>135</td>\n",
       "      <td>20400994</td>\n",
       "      <td>33.8703</td>\n",
       "      <td>184</td>\n",
       "      <td>174</td>\n",
       "      <td>-118.0858</td>\n",
       "      <td>7</td>\n",
       "      <td>2</td>\n",
       "      <td>...</td>\n",
       "      <td>3PT Field Goal</td>\n",
       "      <td>Right Side Center(RC)</td>\n",
       "      <td>Above the Break 3</td>\n",
       "      <td>24+ ft.</td>\n",
       "      <td>1610612747</td>\n",
       "      <td>Los Angeles Lakers</td>\n",
       "      <td>2005-03-22</td>\n",
       "      <td>LAL @ UTA</td>\n",
       "      <td>UTA</td>\n",
       "      <td>7281</td>\n",
       "    </tr>\n",
       "    <tr>\n",
       "      <th>2430</th>\n",
       "      <td>Running Jump Shot</td>\n",
       "      <td>Jump Shot</td>\n",
       "      <td>42</td>\n",
       "      <td>20100691</td>\n",
       "      <td>34.0463</td>\n",
       "      <td>-105</td>\n",
       "      <td>-2</td>\n",
       "      <td>-118.3748</td>\n",
       "      <td>6</td>\n",
       "      <td>1</td>\n",
       "      <td>...</td>\n",
       "      <td>2PT Field Goal</td>\n",
       "      <td>Left Side(L)</td>\n",
       "      <td>Mid-Range</td>\n",
       "      <td>8-16 ft.</td>\n",
       "      <td>1610612747</td>\n",
       "      <td>Los Angeles Lakers</td>\n",
       "      <td>2002-02-06</td>\n",
       "      <td>LAL vs. CHI</td>\n",
       "      <td>CHI</td>\n",
       "      <td>2431</td>\n",
       "    </tr>\n",
       "    <tr>\n",
       "      <th>18258</th>\n",
       "      <td>Turnaround Jump Shot</td>\n",
       "      <td>Jump Shot</td>\n",
       "      <td>59</td>\n",
       "      <td>21100109</td>\n",
       "      <td>34.0373</td>\n",
       "      <td>136</td>\n",
       "      <td>7</td>\n",
       "      <td>-118.1338</td>\n",
       "      <td>5</td>\n",
       "      <td>1</td>\n",
       "      <td>...</td>\n",
       "      <td>2PT Field Goal</td>\n",
       "      <td>Right Side(R)</td>\n",
       "      <td>Mid-Range</td>\n",
       "      <td>8-16 ft.</td>\n",
       "      <td>1610612747</td>\n",
       "      <td>Los Angeles Lakers</td>\n",
       "      <td>2012-01-06</td>\n",
       "      <td>LAL vs. GSW</td>\n",
       "      <td>GSW</td>\n",
       "      <td>18259</td>\n",
       "    </tr>\n",
       "    <tr>\n",
       "      <th>26030</th>\n",
       "      <td>Jump Shot</td>\n",
       "      <td>Jump Shot</td>\n",
       "      <td>259</td>\n",
       "      <td>29901039</td>\n",
       "      <td>33.9053</td>\n",
       "      <td>100</td>\n",
       "      <td>139</td>\n",
       "      <td>-118.1698</td>\n",
       "      <td>8</td>\n",
       "      <td>3</td>\n",
       "      <td>...</td>\n",
       "      <td>2PT Field Goal</td>\n",
       "      <td>Right Side Center(RC)</td>\n",
       "      <td>Mid-Range</td>\n",
       "      <td>16-24 ft.</td>\n",
       "      <td>1610612747</td>\n",
       "      <td>Los Angeles Lakers</td>\n",
       "      <td>2000-03-31</td>\n",
       "      <td>LAL vs. PHI</td>\n",
       "      <td>PHI</td>\n",
       "      <td>26031</td>\n",
       "    </tr>\n",
       "    <tr>\n",
       "      <th>27069</th>\n",
       "      <td>Jump Shot</td>\n",
       "      <td>Jump Shot</td>\n",
       "      <td>498</td>\n",
       "      <td>40200173</td>\n",
       "      <td>33.8383</td>\n",
       "      <td>146</td>\n",
       "      <td>206</td>\n",
       "      <td>-118.1238</td>\n",
       "      <td>0</td>\n",
       "      <td>4</td>\n",
       "      <td>...</td>\n",
       "      <td>3PT Field Goal</td>\n",
       "      <td>Right Side Center(RC)</td>\n",
       "      <td>Above the Break 3</td>\n",
       "      <td>24+ ft.</td>\n",
       "      <td>1610612747</td>\n",
       "      <td>Los Angeles Lakers</td>\n",
       "      <td>2003-04-24</td>\n",
       "      <td>LAL vs. MIN</td>\n",
       "      <td>MIN</td>\n",
       "      <td>27070</td>\n",
       "    </tr>\n",
       "    <tr>\n",
       "      <th>12100</th>\n",
       "      <td>Layup Shot</td>\n",
       "      <td>Layup</td>\n",
       "      <td>299</td>\n",
       "      <td>20700497</td>\n",
       "      <td>34.0443</td>\n",
       "      <td>0</td>\n",
       "      <td>0</td>\n",
       "      <td>-118.2698</td>\n",
       "      <td>9</td>\n",
       "      <td>3</td>\n",
       "      <td>...</td>\n",
       "      <td>2PT Field Goal</td>\n",
       "      <td>Center(C)</td>\n",
       "      <td>Restricted Area</td>\n",
       "      <td>Less Than 8 ft.</td>\n",
       "      <td>1610612747</td>\n",
       "      <td>Los Angeles Lakers</td>\n",
       "      <td>2008-01-06</td>\n",
       "      <td>LAL vs. IND</td>\n",
       "      <td>IND</td>\n",
       "      <td>12101</td>\n",
       "    </tr>\n",
       "    <tr>\n",
       "      <th>6967</th>\n",
       "      <td>Jump Shot</td>\n",
       "      <td>Jump Shot</td>\n",
       "      <td>96</td>\n",
       "      <td>20400799</td>\n",
       "      <td>33.8473</td>\n",
       "      <td>-154</td>\n",
       "      <td>197</td>\n",
       "      <td>-118.4238</td>\n",
       "      <td>2</td>\n",
       "      <td>1</td>\n",
       "      <td>...</td>\n",
       "      <td>3PT Field Goal</td>\n",
       "      <td>Left Side Center(LC)</td>\n",
       "      <td>Above the Break 3</td>\n",
       "      <td>24+ ft.</td>\n",
       "      <td>1610612747</td>\n",
       "      <td>Los Angeles Lakers</td>\n",
       "      <td>2005-02-23</td>\n",
       "      <td>LAL @ POR</td>\n",
       "      <td>POR</td>\n",
       "      <td>6968</td>\n",
       "    </tr>\n",
       "    <tr>\n",
       "      <th>28407</th>\n",
       "      <td>Jump Shot</td>\n",
       "      <td>Jump Shot</td>\n",
       "      <td>243</td>\n",
       "      <td>40700402</td>\n",
       "      <td>33.8453</td>\n",
       "      <td>-3</td>\n",
       "      <td>199</td>\n",
       "      <td>-118.2728</td>\n",
       "      <td>9</td>\n",
       "      <td>3</td>\n",
       "      <td>...</td>\n",
       "      <td>2PT Field Goal</td>\n",
       "      <td>Center(C)</td>\n",
       "      <td>Mid-Range</td>\n",
       "      <td>16-24 ft.</td>\n",
       "      <td>1610612747</td>\n",
       "      <td>Los Angeles Lakers</td>\n",
       "      <td>2008-06-08</td>\n",
       "      <td>LAL @ BOS</td>\n",
       "      <td>BOS</td>\n",
       "      <td>28408</td>\n",
       "    </tr>\n",
       "    <tr>\n",
       "      <th>11795</th>\n",
       "      <td>Jump Shot</td>\n",
       "      <td>Jump Shot</td>\n",
       "      <td>271</td>\n",
       "      <td>20700249</td>\n",
       "      <td>33.4523</td>\n",
       "      <td>159</td>\n",
       "      <td>592</td>\n",
       "      <td>-118.1108</td>\n",
       "      <td>0</td>\n",
       "      <td>2</td>\n",
       "      <td>...</td>\n",
       "      <td>3PT Field Goal</td>\n",
       "      <td>Back Court(BC)</td>\n",
       "      <td>Backcourt</td>\n",
       "      <td>Back Court Shot</td>\n",
       "      <td>1610612747</td>\n",
       "      <td>Los Angeles Lakers</td>\n",
       "      <td>2007-12-02</td>\n",
       "      <td>LAL vs. ORL</td>\n",
       "      <td>ORL</td>\n",
       "      <td>11796</td>\n",
       "    </tr>\n",
       "  </tbody>\n",
       "</table>\n",
       "<p>10 rows × 25 columns</p>\n",
       "</div>"
      ],
      "text/plain": [
       "                action_type combined_shot_type  game_event_id   game_id  \\\n",
       "2183              Jump Shot          Jump Shot              2  20100525   \n",
       "7280              Jump Shot          Jump Shot            135  20400994   \n",
       "2430      Running Jump Shot          Jump Shot             42  20100691   \n",
       "18258  Turnaround Jump Shot          Jump Shot             59  21100109   \n",
       "26030             Jump Shot          Jump Shot            259  29901039   \n",
       "27069             Jump Shot          Jump Shot            498  40200173   \n",
       "12100            Layup Shot              Layup            299  20700497   \n",
       "6967              Jump Shot          Jump Shot             96  20400799   \n",
       "28407             Jump Shot          Jump Shot            243  40700402   \n",
       "11795             Jump Shot          Jump Shot            271  20700249   \n",
       "\n",
       "           lat  loc_x  loc_y       lon  minutes_remaining  period  ...  \\\n",
       "2183   33.9513    150     93 -118.1198                 11       1  ...   \n",
       "7280   33.8703    184    174 -118.0858                  7       2  ...   \n",
       "2430   34.0463   -105     -2 -118.3748                  6       1  ...   \n",
       "18258  34.0373    136      7 -118.1338                  5       1  ...   \n",
       "26030  33.9053    100    139 -118.1698                  8       3  ...   \n",
       "27069  33.8383    146    206 -118.1238                  0       4  ...   \n",
       "12100  34.0443      0      0 -118.2698                  9       3  ...   \n",
       "6967   33.8473   -154    197 -118.4238                  2       1  ...   \n",
       "28407  33.8453     -3    199 -118.2728                  9       3  ...   \n",
       "11795  33.4523    159    592 -118.1108                  0       2  ...   \n",
       "\n",
       "            shot_type         shot_zone_area    shot_zone_basic  \\\n",
       "2183   2PT Field Goal          Right Side(R)          Mid-Range   \n",
       "7280   3PT Field Goal  Right Side Center(RC)  Above the Break 3   \n",
       "2430   2PT Field Goal           Left Side(L)          Mid-Range   \n",
       "18258  2PT Field Goal          Right Side(R)          Mid-Range   \n",
       "26030  2PT Field Goal  Right Side Center(RC)          Mid-Range   \n",
       "27069  3PT Field Goal  Right Side Center(RC)  Above the Break 3   \n",
       "12100  2PT Field Goal              Center(C)    Restricted Area   \n",
       "6967   3PT Field Goal   Left Side Center(LC)  Above the Break 3   \n",
       "28407  2PT Field Goal              Center(C)          Mid-Range   \n",
       "11795  3PT Field Goal         Back Court(BC)          Backcourt   \n",
       "\n",
       "       shot_zone_range     team_id           team_name  game_date  \\\n",
       "2183         16-24 ft.  1610612747  Los Angeles Lakers 2002-01-14   \n",
       "7280           24+ ft.  1610612747  Los Angeles Lakers 2005-03-22   \n",
       "2430          8-16 ft.  1610612747  Los Angeles Lakers 2002-02-06   \n",
       "18258         8-16 ft.  1610612747  Los Angeles Lakers 2012-01-06   \n",
       "26030        16-24 ft.  1610612747  Los Angeles Lakers 2000-03-31   \n",
       "27069          24+ ft.  1610612747  Los Angeles Lakers 2003-04-24   \n",
       "12100  Less Than 8 ft.  1610612747  Los Angeles Lakers 2008-01-06   \n",
       "6967           24+ ft.  1610612747  Los Angeles Lakers 2005-02-23   \n",
       "28407        16-24 ft.  1610612747  Los Angeles Lakers 2008-06-08   \n",
       "11795  Back Court Shot  1610612747  Los Angeles Lakers 2007-12-02   \n",
       "\n",
       "           matchup opponent  shot_id  \n",
       "2183   LAL vs. MEM      MEM     2184  \n",
       "7280     LAL @ UTA      UTA     7281  \n",
       "2430   LAL vs. CHI      CHI     2431  \n",
       "18258  LAL vs. GSW      GSW    18259  \n",
       "26030  LAL vs. PHI      PHI    26031  \n",
       "27069  LAL vs. MIN      MIN    27070  \n",
       "12100  LAL vs. IND      IND    12101  \n",
       "6967     LAL @ POR      POR     6968  \n",
       "28407    LAL @ BOS      BOS    28408  \n",
       "11795  LAL vs. ORL      ORL    11796  \n",
       "\n",
       "[10 rows x 25 columns]"
      ]
     },
     "execution_count": 30,
     "metadata": {},
     "output_type": "execute_result"
    }
   ],
   "source": [
    "data.sample(10)"
   ]
  },
  {
   "cell_type": "code",
   "execution_count": 31,
   "id": "correct-conclusion",
   "metadata": {
    "scrolled": true
   },
   "outputs": [
    {
     "name": "stdout",
     "output_type": "stream",
     "text": [
      "<class 'pandas.core.frame.DataFrame'>\n",
      "RangeIndex: 30697 entries, 0 to 30696\n",
      "Data columns (total 25 columns):\n",
      " #   Column              Non-Null Count  Dtype         \n",
      "---  ------              --------------  -----         \n",
      " 0   action_type         30697 non-null  object        \n",
      " 1   combined_shot_type  30697 non-null  object        \n",
      " 2   game_event_id       30697 non-null  int64         \n",
      " 3   game_id             30697 non-null  int64         \n",
      " 4   lat                 30697 non-null  float64       \n",
      " 5   loc_x               30697 non-null  int64         \n",
      " 6   loc_y               30697 non-null  int64         \n",
      " 7   lon                 30697 non-null  float64       \n",
      " 8   minutes_remaining   30697 non-null  int64         \n",
      " 9   period              30697 non-null  int64         \n",
      " 10  playoffs            30697 non-null  int64         \n",
      " 11  season              30697 non-null  object        \n",
      " 12  seconds_remaining   30697 non-null  int64         \n",
      " 13  shot_distance       30697 non-null  int64         \n",
      " 14  shot_made_flag      25697 non-null  float64       \n",
      " 15  shot_type           30697 non-null  object        \n",
      " 16  shot_zone_area      30697 non-null  object        \n",
      " 17  shot_zone_basic     30697 non-null  object        \n",
      " 18  shot_zone_range     30697 non-null  object        \n",
      " 19  team_id             30697 non-null  int64         \n",
      " 20  team_name           30697 non-null  object        \n",
      " 21  game_date           30697 non-null  datetime64[ns]\n",
      " 22  matchup             30697 non-null  object        \n",
      " 23  opponent            30697 non-null  object        \n",
      " 24  shot_id             30697 non-null  int64         \n",
      "dtypes: datetime64[ns](1), float64(3), int64(11), object(10)\n",
      "memory usage: 5.9+ MB\n"
     ]
    }
   ],
   "source": [
    "data.info()"
   ]
  },
  {
   "cell_type": "markdown",
   "id": "electronic-blake",
   "metadata": {},
   "source": [
    "### Shot Made Flag"
   ]
  },
  {
   "cell_type": "code",
   "execution_count": 7,
   "id": "accompanied-presence",
   "metadata": {},
   "outputs": [
    {
     "data": {
      "text/plain": [
       "count    25697.000000\n",
       "mean         0.446161\n",
       "std          0.497103\n",
       "min          0.000000\n",
       "25%          0.000000\n",
       "50%          0.000000\n",
       "75%          1.000000\n",
       "max          1.000000\n",
       "Name: shot_made_flag, dtype: float64"
      ]
     },
     "execution_count": 7,
     "metadata": {},
     "output_type": "execute_result"
    }
   ],
   "source": [
    "# ~ 16% of the shots don't have any info about whether the shot was made or not; drop those rows\n",
    "data['shot_made_flag'].describe()"
   ]
  },
  {
   "cell_type": "code",
   "execution_count": 8,
   "id": "square-strand",
   "metadata": {},
   "outputs": [
    {
     "data": {
      "text/plain": [
       "<AxesSubplot:xlabel='shot_made_flag', ylabel='count'>"
      ]
     },
     "execution_count": 8,
     "metadata": {},
     "output_type": "execute_result"
    },
    {
     "data": {
      "image/png": "[encoded data removed]",
      "text/plain": [
       "<Figure size 576x432 with 1 Axes>"
      ]
     },
     "metadata": {
      "needs_background": "light"
     },
     "output_type": "display_data"
    }
   ],
   "source": [
    "# Kobe Made 44.6% of his shots\n",
    "plt.figure(figsize=(8, 6))\n",
    "sns.countplot(x='shot_made_flag', data=data)"
   ]
  },
  {
   "cell_type": "code",
   "execution_count": 12,
   "id": "arctic-official",
   "metadata": {},
   "outputs": [],
   "source": [
    "data = data[data['shot_made_flag'].notna()]"
   ]
  },
  {
   "cell_type": "markdown",
   "id": "demanding-directory",
   "metadata": {},
   "source": [
    "# Shot Zone Range"
   ]
  },
  {
   "cell_type": "code",
   "execution_count": 13,
   "id": "toxic-above",
   "metadata": {},
   "outputs": [
    {
     "data": {
      "text/plain": [
       "count               25697\n",
       "unique                  5\n",
       "top       Less Than 8 ft.\n",
       "freq                 7857\n",
       "Name: shot_zone_range, dtype: object"
      ]
     },
     "execution_count": 13,
     "metadata": {},
     "output_type": "execute_result"
    }
   ],
   "source": [
    "data['shot_zone_range'].describe()"
   ]
  },
  {
   "cell_type": "code",
   "execution_count": 14,
   "id": "monthly-lawsuit",
   "metadata": {},
   "outputs": [
    {
     "data": {
      "text/html": [
       "<div>\n",
       "<style scoped>\n",
       "    .dataframe tbody tr th:only-of-type {\n",
       "        vertical-align: middle;\n",
       "    }\n",
       "\n",
       "    .dataframe tbody tr th {\n",
       "        vertical-align: top;\n",
       "    }\n",
       "\n",
       "    .dataframe thead th {\n",
       "        text-align: right;\n",
       "    }\n",
       "</style>\n",
       "<table border=\"1\" class=\"dataframe\">\n",
       "  <thead>\n",
       "    <tr style=\"text-align: right;\">\n",
       "      <th></th>\n",
       "      <th>shot_zone_range</th>\n",
       "      <th>shot_made_flag</th>\n",
       "    </tr>\n",
       "  </thead>\n",
       "  <tbody>\n",
       "    <tr>\n",
       "      <th>0</th>\n",
       "      <td>16-24 ft.</td>\n",
       "      <td>6907</td>\n",
       "    </tr>\n",
       "    <tr>\n",
       "      <th>1</th>\n",
       "      <td>24+ ft.</td>\n",
       "      <td>5281</td>\n",
       "    </tr>\n",
       "    <tr>\n",
       "      <th>2</th>\n",
       "      <td>8-16 ft.</td>\n",
       "      <td>5580</td>\n",
       "    </tr>\n",
       "    <tr>\n",
       "      <th>3</th>\n",
       "      <td>Back Court Shot</td>\n",
       "      <td>72</td>\n",
       "    </tr>\n",
       "    <tr>\n",
       "      <th>4</th>\n",
       "      <td>Less Than 8 ft.</td>\n",
       "      <td>7857</td>\n",
       "    </tr>\n",
       "  </tbody>\n",
       "</table>\n",
       "</div>"
      ],
      "text/plain": [
       "   shot_zone_range  shot_made_flag\n",
       "0        16-24 ft.            6907\n",
       "1          24+ ft.            5281\n",
       "2         8-16 ft.            5580\n",
       "3  Back Court Shot              72\n",
       "4  Less Than 8 ft.            7857"
      ]
     },
     "execution_count": 14,
     "metadata": {},
     "output_type": "execute_result"
    }
   ],
   "source": [
    "data.groupby('shot_zone_range')['shot_made_flag'].count().reset_index()"
   ]
  },
  {
   "cell_type": "code",
   "execution_count": 22,
   "id": "surgical-jefferson",
   "metadata": {},
   "outputs": [
    {
     "data": {
      "image/png": "[encoded data removed]",
      "text/plain": [
       "<Figure size 432x288 with 1 Axes>"
      ]
     },
     "metadata": {
      "needs_background": "light"
     },
     "output_type": "display_data"
    }
   ],
   "source": [
    "total = data.groupby('shot_zone_range')['shot_made_flag'].count().reset_index()\n",
    "shot_made = data[data['shot_made_flag']==1].groupby('shot_zone_range')['shot_made_flag'].count().reset_index()\n",
    "shot_made['percent_shot_made'] = [i / j * 100 for i,j in zip(shot_made['shot_made_flag'], total['shot_made_flag'])]\n",
    "total['percent_shot_made'] = [i / j * 100 for i,j in zip(total['shot_made_flag'], total['shot_made_flag'])]\n",
    "\n",
    "bar1 = sns.barplot(x=\"shot_zone_range\",  y=\"percent_shot_made\", data=total, color='darkblue')\n",
    "bar2 = sns.barplot(x=\"shot_zone_range\", y=\"percent_shot_made\", data=shot_made, color='lightblue')"
   ]
  },
  {
   "cell_type": "markdown",
   "id": "corporate-williams",
   "metadata": {},
   "source": [
    "# Playoffs"
   ]
  },
  {
   "cell_type": "code",
   "execution_count": 18,
   "id": "extreme-zealand",
   "metadata": {},
   "outputs": [
    {
     "data": {
      "text/plain": [
       "count    25697.000000\n",
       "mean         0.146243\n",
       "std          0.353356\n",
       "min          0.000000\n",
       "25%          0.000000\n",
       "50%          0.000000\n",
       "75%          0.000000\n",
       "max          1.000000\n",
       "Name: playoffs, dtype: float64"
      ]
     },
     "execution_count": 18,
     "metadata": {},
     "output_type": "execute_result"
    }
   ],
   "source": [
    "data['playoffs'].describe()"
   ]
  },
  {
   "cell_type": "code",
   "execution_count": 19,
   "id": "elegant-celebration",
   "metadata": {},
   "outputs": [
    {
     "data": {
      "text/html": [
       "<div>\n",
       "<style scoped>\n",
       "    .dataframe tbody tr th:only-of-type {\n",
       "        vertical-align: middle;\n",
       "    }\n",
       "\n",
       "    .dataframe tbody tr th {\n",
       "        vertical-align: top;\n",
       "    }\n",
       "\n",
       "    .dataframe thead th {\n",
       "        text-align: right;\n",
       "    }\n",
       "</style>\n",
       "<table border=\"1\" class=\"dataframe\">\n",
       "  <thead>\n",
       "    <tr style=\"text-align: right;\">\n",
       "      <th></th>\n",
       "      <th>playoffs</th>\n",
       "      <th>shot_made_flag</th>\n",
       "    </tr>\n",
       "  </thead>\n",
       "  <tbody>\n",
       "    <tr>\n",
       "      <th>0</th>\n",
       "      <td>0</td>\n",
       "      <td>21939</td>\n",
       "    </tr>\n",
       "    <tr>\n",
       "      <th>1</th>\n",
       "      <td>1</td>\n",
       "      <td>3758</td>\n",
       "    </tr>\n",
       "  </tbody>\n",
       "</table>\n",
       "</div>"
      ],
      "text/plain": [
       "   playoffs  shot_made_flag\n",
       "0         0           21939\n",
       "1         1            3758"
      ]
     },
     "execution_count": 19,
     "metadata": {},
     "output_type": "execute_result"
    }
   ],
   "source": [
    "data.groupby('playoffs')['shot_made_flag'].count().reset_index()"
   ]
  },
  {
   "cell_type": "code",
   "execution_count": 21,
   "id": "apart-communication",
   "metadata": {},
   "outputs": [
    {
     "data": {
      "image/png": "[encoded data removed]",
      "text/plain": [
       "<Figure size 432x288 with 1 Axes>"
      ]
     },
     "metadata": {
      "needs_background": "light"
     },
     "output_type": "display_data"
    }
   ],
   "source": [
    "total = data.groupby('playoffs')['shot_made_flag'].count().reset_index()\n",
    "shot_made = data[data['shot_made_flag']==1].groupby('playoffs')['shot_made_flag'].count().reset_index()\n",
    "shot_made['percent_shot_made'] = [i / j * 100 for i,j in zip(shot_made['shot_made_flag'], total['shot_made_flag'])]\n",
    "total['percent_shot_made'] = [i / j * 100 for i,j in zip(total['shot_made_flag'], total['shot_made_flag'])]\n",
    "\n",
    "bar1 = sns.barplot(x=\"playoffs\",  y=\"percent_shot_made\", data=total, color='darkblue')\n",
    "bar2 = sns.barplot(x=\"playoffs\", y=\"percent_shot_made\", data=shot_made, color='lightblue')"
   ]
  },
  {
   "cell_type": "markdown",
   "id": "annual-freedom",
   "metadata": {},
   "source": [
    "### Period"
   ]
  },
  {
   "cell_type": "code",
   "execution_count": 23,
   "id": "stopped-plaza",
   "metadata": {},
   "outputs": [
    {
     "data": {
      "text/plain": [
       "count    25697.000000\n",
       "mean         2.520800\n",
       "std          1.151626\n",
       "min          1.000000\n",
       "25%          1.000000\n",
       "50%          3.000000\n",
       "75%          3.000000\n",
       "max          7.000000\n",
       "Name: period, dtype: float64"
      ]
     },
     "execution_count": 23,
     "metadata": {},
     "output_type": "execute_result"
    }
   ],
   "source": [
    "data['period'].describe()"
   ]
  },
  {
   "cell_type": "code",
   "execution_count": 24,
   "id": "powered-satisfaction",
   "metadata": {},
   "outputs": [
    {
     "data": {
      "text/html": [
       "<div>\n",
       "<style scoped>\n",
       "    .dataframe tbody tr th:only-of-type {\n",
       "        vertical-align: middle;\n",
       "    }\n",
       "\n",
       "    .dataframe tbody tr th {\n",
       "        vertical-align: top;\n",
       "    }\n",
       "\n",
       "    .dataframe thead th {\n",
       "        text-align: right;\n",
       "    }\n",
       "</style>\n",
       "<table border=\"1\" class=\"dataframe\">\n",
       "  <thead>\n",
       "    <tr style=\"text-align: right;\">\n",
       "      <th></th>\n",
       "      <th>period</th>\n",
       "      <th>shot_made_flag</th>\n",
       "    </tr>\n",
       "  </thead>\n",
       "  <tbody>\n",
       "    <tr>\n",
       "      <th>0</th>\n",
       "      <td>1</td>\n",
       "      <td>6700</td>\n",
       "    </tr>\n",
       "    <tr>\n",
       "      <th>1</th>\n",
       "      <td>2</td>\n",
       "      <td>5635</td>\n",
       "    </tr>\n",
       "    <tr>\n",
       "      <th>2</th>\n",
       "      <td>3</td>\n",
       "      <td>7002</td>\n",
       "    </tr>\n",
       "    <tr>\n",
       "      <th>3</th>\n",
       "      <td>4</td>\n",
       "      <td>6043</td>\n",
       "    </tr>\n",
       "    <tr>\n",
       "      <th>4</th>\n",
       "      <td>5</td>\n",
       "      <td>280</td>\n",
       "    </tr>\n",
       "    <tr>\n",
       "      <th>5</th>\n",
       "      <td>6</td>\n",
       "      <td>30</td>\n",
       "    </tr>\n",
       "    <tr>\n",
       "      <th>6</th>\n",
       "      <td>7</td>\n",
       "      <td>7</td>\n",
       "    </tr>\n",
       "  </tbody>\n",
       "</table>\n",
       "</div>"
      ],
      "text/plain": [
       "   period  shot_made_flag\n",
       "0       1            6700\n",
       "1       2            5635\n",
       "2       3            7002\n",
       "3       4            6043\n",
       "4       5             280\n",
       "5       6              30\n",
       "6       7               7"
      ]
     },
     "execution_count": 24,
     "metadata": {},
     "output_type": "execute_result"
    }
   ],
   "source": [
    "data.groupby('period')['shot_made_flag'].count().reset_index()"
   ]
  },
  {
   "cell_type": "code",
   "execution_count": 25,
   "id": "experienced-geography",
   "metadata": {},
   "outputs": [
    {
     "data": {
      "image/png": "[encoded data removed]",
      "text/plain": [
       "<Figure size 432x288 with 1 Axes>"
      ]
     },
     "metadata": {
      "needs_background": "light"
     },
     "output_type": "display_data"
    }
   ],
   "source": [
    "total = data.groupby('period')['shot_made_flag'].count().reset_index()\n",
    "shot_made = data[data['shot_made_flag']==1].groupby('period')['shot_made_flag'].count().reset_index()\n",
    "shot_made['percent_shot_made'] = [i / j * 100 for i,j in zip(shot_made['shot_made_flag'], total['shot_made_flag'])]\n",
    "total['percent_shot_made'] = [i / j * 100 for i,j in zip(total['shot_made_flag'], total['shot_made_flag'])]\n",
    "\n",
    "bar1 = sns.barplot(x=\"period\",  y=\"percent_shot_made\", data=total, color='darkblue')\n",
    "bar2 = sns.barplot(x=\"period\", y=\"percent_shot_made\", data=shot_made, color='lightblue')"
   ]
  },
  {
   "cell_type": "markdown",
   "id": "recorded-baghdad",
   "metadata": {},
   "source": [
    "### Season"
   ]
  },
  {
   "cell_type": "code",
   "execution_count": 26,
   "id": "worth-thailand",
   "metadata": {},
   "outputs": [
    {
     "data": {
      "text/plain": [
       "count       25697\n",
       "unique         20\n",
       "top       2005-06\n",
       "freq         1924\n",
       "Name: season, dtype: object"
      ]
     },
     "execution_count": 26,
     "metadata": {},
     "output_type": "execute_result"
    }
   ],
   "source": [
    "data['season'].describe()"
   ]
  },
  {
   "cell_type": "code",
   "execution_count": 27,
   "id": "behind-application",
   "metadata": {},
   "outputs": [
    {
     "data": {
      "text/html": [
       "<div>\n",
       "<style scoped>\n",
       "    .dataframe tbody tr th:only-of-type {\n",
       "        vertical-align: middle;\n",
       "    }\n",
       "\n",
       "    .dataframe tbody tr th {\n",
       "        vertical-align: top;\n",
       "    }\n",
       "\n",
       "    .dataframe thead th {\n",
       "        text-align: right;\n",
       "    }\n",
       "</style>\n",
       "<table border=\"1\" class=\"dataframe\">\n",
       "  <thead>\n",
       "    <tr style=\"text-align: right;\">\n",
       "      <th></th>\n",
       "      <th>season</th>\n",
       "      <th>shot_made_flag</th>\n",
       "    </tr>\n",
       "  </thead>\n",
       "  <tbody>\n",
       "    <tr>\n",
       "      <th>0</th>\n",
       "      <td>1996-97</td>\n",
       "      <td>383</td>\n",
       "    </tr>\n",
       "    <tr>\n",
       "      <th>1</th>\n",
       "      <td>1997-98</td>\n",
       "      <td>810</td>\n",
       "    </tr>\n",
       "    <tr>\n",
       "      <th>2</th>\n",
       "      <td>1998-99</td>\n",
       "      <td>765</td>\n",
       "    </tr>\n",
       "    <tr>\n",
       "      <th>3</th>\n",
       "      <td>1999-00</td>\n",
       "      <td>1312</td>\n",
       "    </tr>\n",
       "    <tr>\n",
       "      <th>4</th>\n",
       "      <td>2000-01</td>\n",
       "      <td>1575</td>\n",
       "    </tr>\n",
       "    <tr>\n",
       "      <th>5</th>\n",
       "      <td>2001-02</td>\n",
       "      <td>1708</td>\n",
       "    </tr>\n",
       "    <tr>\n",
       "      <th>6</th>\n",
       "      <td>2002-03</td>\n",
       "      <td>1852</td>\n",
       "    </tr>\n",
       "    <tr>\n",
       "      <th>7</th>\n",
       "      <td>2003-04</td>\n",
       "      <td>1371</td>\n",
       "    </tr>\n",
       "    <tr>\n",
       "      <th>8</th>\n",
       "      <td>2004-05</td>\n",
       "      <td>1127</td>\n",
       "    </tr>\n",
       "    <tr>\n",
       "      <th>9</th>\n",
       "      <td>2005-06</td>\n",
       "      <td>1924</td>\n",
       "    </tr>\n",
       "    <tr>\n",
       "      <th>10</th>\n",
       "      <td>2006-07</td>\n",
       "      <td>1579</td>\n",
       "    </tr>\n",
       "    <tr>\n",
       "      <th>11</th>\n",
       "      <td>2007-08</td>\n",
       "      <td>1819</td>\n",
       "    </tr>\n",
       "    <tr>\n",
       "      <th>12</th>\n",
       "      <td>2008-09</td>\n",
       "      <td>1851</td>\n",
       "    </tr>\n",
       "    <tr>\n",
       "      <th>13</th>\n",
       "      <td>2009-10</td>\n",
       "      <td>1772</td>\n",
       "    </tr>\n",
       "    <tr>\n",
       "      <th>14</th>\n",
       "      <td>2010-11</td>\n",
       "      <td>1521</td>\n",
       "    </tr>\n",
       "    <tr>\n",
       "      <th>15</th>\n",
       "      <td>2011-12</td>\n",
       "      <td>1416</td>\n",
       "    </tr>\n",
       "    <tr>\n",
       "      <th>16</th>\n",
       "      <td>2012-13</td>\n",
       "      <td>1328</td>\n",
       "    </tr>\n",
       "    <tr>\n",
       "      <th>17</th>\n",
       "      <td>2013-14</td>\n",
       "      <td>59</td>\n",
       "    </tr>\n",
       "    <tr>\n",
       "      <th>18</th>\n",
       "      <td>2014-15</td>\n",
       "      <td>593</td>\n",
       "    </tr>\n",
       "    <tr>\n",
       "      <th>19</th>\n",
       "      <td>2015-16</td>\n",
       "      <td>932</td>\n",
       "    </tr>\n",
       "  </tbody>\n",
       "</table>\n",
       "</div>"
      ],
      "text/plain": [
       "     season  shot_made_flag\n",
       "0   1996-97             383\n",
       "1   1997-98             810\n",
       "2   1998-99             765\n",
       "3   1999-00            1312\n",
       "4   2000-01            1575\n",
       "5   2001-02            1708\n",
       "6   2002-03            1852\n",
       "7   2003-04            1371\n",
       "8   2004-05            1127\n",
       "9   2005-06            1924\n",
       "10  2006-07            1579\n",
       "11  2007-08            1819\n",
       "12  2008-09            1851\n",
       "13  2009-10            1772\n",
       "14  2010-11            1521\n",
       "15  2011-12            1416\n",
       "16  2012-13            1328\n",
       "17  2013-14              59\n",
       "18  2014-15             593\n",
       "19  2015-16             932"
      ]
     },
     "execution_count": 27,
     "metadata": {},
     "output_type": "execute_result"
    }
   ],
   "source": [
    "data.groupby('season')['shot_made_flag'].count().reset_index()"
   ]
  },
  {
   "cell_type": "code",
   "execution_count": 28,
   "id": "atmospheric-switch",
   "metadata": {},
   "outputs": [
    {
     "data": {
      "image/png": "[encoded data removed]",
      "text/plain": [
       "<Figure size 432x288 with 1 Axes>"
      ]
     },
     "metadata": {
      "needs_background": "light"
     },
     "output_type": "display_data"
    }
   ],
   "source": [
    "total = data.groupby('season')['shot_made_flag'].count().reset_index()\n",
    "shot_made = data[data['shot_made_flag']==1].groupby('season')['shot_made_flag'].count().reset_index()\n",
    "shot_made['percent_shot_made'] = [i / j * 100 for i,j in zip(shot_made['shot_made_flag'], total['shot_made_flag'])]\n",
    "total['percent_shot_made'] = [i / j * 100 for i,j in zip(total['shot_made_flag'], total['shot_made_flag'])]\n",
    "\n",
    "bar1 = sns.barplot(x=\"season\",  y=\"percent_shot_made\", data=total, color='darkblue')\n",
    "bar2 = sns.barplot(x=\"season\", y=\"percent_shot_made\", data=shot_made, color='lightblue')"
   ]
  },
  {
   "cell_type": "code",
   "execution_count": null,
   "id": "weird-robertson",
   "metadata": {},
   "outputs": [],
   "source": []
  },
  {
   "cell_type": "code",
   "execution_count": null,
   "id": "matched-lending",
   "metadata": {},
   "outputs": [],
   "source": [
    "# OHE"
   ]
  },
  {
   "cell_type": "code",
   "execution_count": 33,
   "id": "compliant-photograph",
   "metadata": {},
   "outputs": [],
   "source": [
    "from sklearn.preprocessing import OneHotEncoder"
   ]
  },
  {
   "cell_type": "code",
   "execution_count": 34,
   "id": "consistent-guinea",
   "metadata": {},
   "outputs": [],
   "source": [
    "from sklearn.model_selection import train_test_split"
   ]
  },
  {
   "cell_type": "code",
   "execution_count": 35,
   "id": "bacterial-minimum",
   "metadata": {},
   "outputs": [],
   "source": [
    "train, test = train_test_split(data, test_size=0.2)\n"
   ]
  },
  {
   "cell_type": "code",
   "execution_count": 37,
   "id": "blank-designer",
   "metadata": {},
   "outputs": [],
   "source": [
    "    target_col = ['shot_made_flag']\n",
    "    feature_cols = ['combined_shot_type',\n",
    "                    'period',\n",
    "                    'season',\n",
    "                    'shot_zone_basic',\n",
    "                    'shot_zone_range'\n",
    "                    ]"
   ]
  },
  {
   "cell_type": "code",
   "execution_count": 49,
   "id": "liable-differential",
   "metadata": {},
   "outputs": [],
   "source": [
    "d1=pd.get_dummies(train[feature_cols])\n"
   ]
  },
  {
   "cell_type": "code",
   "execution_count": 50,
   "id": "modular-replica",
   "metadata": {},
   "outputs": [],
   "source": [
    "t1=pd.get_dummies(test[feature_cols])\n"
   ]
  },
  {
   "cell_type": "code",
   "execution_count": 54,
   "id": "reported-laptop",
   "metadata": {},
   "outputs": [
    {
     "data": {
      "text/plain": [
       "[]"
      ]
     },
     "execution_count": 54,
     "metadata": {},
     "output_type": "execute_result"
    }
   ],
   "source": [
    "list(set(list(d1.columns)).difference(set(list(t1.columns))))"
   ]
  },
  {
   "cell_type": "code",
   "execution_count": 55,
   "id": "engaging-mumbai",
   "metadata": {},
   "outputs": [
    {
     "data": {
      "text/plain": [
       "[]"
      ]
     },
     "execution_count": 55,
     "metadata": {},
     "output_type": "execute_result"
    }
   ],
   "source": [
    "list(set(list(t1.columns)).difference(set(list(d1.columns))))"
   ]
  },
  {
   "cell_type": "code",
   "execution_count": 52,
   "id": "caroline-synthesis",
   "metadata": {},
   "outputs": [
    {
     "data": {
      "text/plain": [
       "Index(['period', 'combined_shot_type_Bank Shot', 'combined_shot_type_Dunk',\n",
       "       'combined_shot_type_Hook Shot', 'combined_shot_type_Jump Shot',\n",
       "       'combined_shot_type_Layup', 'combined_shot_type_Tip Shot',\n",
       "       'season_1996-97', 'season_1997-98', 'season_1998-99', 'season_1999-00',\n",
       "       'season_2000-01', 'season_2001-02', 'season_2002-03', 'season_2003-04',\n",
       "       'season_2004-05', 'season_2005-06', 'season_2006-07', 'season_2007-08',\n",
       "       'season_2008-09', 'season_2009-10', 'season_2010-11', 'season_2011-12',\n",
       "       'season_2012-13', 'season_2013-14', 'season_2014-15', 'season_2015-16',\n",
       "       'shot_zone_basic_Above the Break 3', 'shot_zone_basic_Backcourt',\n",
       "       'shot_zone_basic_In The Paint (Non-RA)',\n",
       "       'shot_zone_basic_Left Corner 3', 'shot_zone_basic_Mid-Range',\n",
       "       'shot_zone_basic_Restricted Area', 'shot_zone_basic_Right Corner 3',\n",
       "       'shot_zone_range_16-24 ft.', 'shot_zone_range_24+ ft.',\n",
       "       'shot_zone_range_8-16 ft.', 'shot_zone_range_Back Court Shot',\n",
       "       'shot_zone_range_Less Than 8 ft.'],\n",
       "      dtype='object')"
      ]
     },
     "execution_count": 52,
     "metadata": {},
     "output_type": "execute_result"
    }
   ],
   "source": [
    "t1.columns"
   ]
  },
  {
   "cell_type": "code",
   "execution_count": null,
   "id": "prospective-sight",
   "metadata": {},
   "outputs": [],
   "source": []
  },
  {
   "cell_type": "code",
   "execution_count": null,
   "id": "spare-profession",
   "metadata": {},
   "outputs": [],
   "source": []
  },
  {
   "cell_type": "code",
   "execution_count": null,
   "id": "tough-moment",
   "metadata": {},
   "outputs": [],
   "source": []
  },
  {
   "cell_type": "code",
   "execution_count": null,
   "id": "medium-start",
   "metadata": {},
   "outputs": [],
   "source": []
  },
  {
   "cell_type": "code",
   "execution_count": null,
   "id": "charitable-trailer",
   "metadata": {},
   "outputs": [],
   "source": []
  },
  {
   "cell_type": "code",
   "execution_count": null,
   "id": "cross-publication",
   "metadata": {},
   "outputs": [],
   "source": []
  },
  {
   "cell_type": "code",
   "execution_count": 39,
   "id": "comprehensive-flush",
   "metadata": {},
   "outputs": [],
   "source": [
    "df_train_features=pd.get_dummies[feature_cols]"
   ]
  },
  {
   "cell_type": "code",
   "execution_count": 40,
   "id": "determined-protocol",
   "metadata": {},
   "outputs": [],
   "source": [
    "df_test_features=test[feature_cols]"
   ]
  },
  {
   "cell_type": "code",
   "execution_count": 41,
   "id": "japanese-nicholas",
   "metadata": {},
   "outputs": [
    {
     "data": {
      "text/plain": [
       "OneHotEncoder()"
      ]
     },
     "execution_count": 41,
     "metadata": {},
     "output_type": "execute_result"
    }
   ],
   "source": [
    "enc = OneHotEncoder()\n",
    "enc.fit(df_train_features)"
   ]
  },
  {
   "cell_type": "code",
   "execution_count": 44,
   "id": "organizational-screen",
   "metadata": {},
   "outputs": [],
   "source": [
    "d1=enc.transform(df_train_features)\n",
    "t1=enc.transform(df_test_features)"
   ]
  },
  {
   "cell_type": "code",
   "execution_count": null,
   "id": "stupid-transition",
   "metadata": {},
   "outputs": [],
   "source": []
  }
 ],
 "metadata": {
  "kernelspec": {
   "display_name": "Python 3",
   "language": "python",
   "name": "python3"
  },
  "language_info": {
   "codemirror_mode": {
    "name": "ipython",
    "version": 3
   },
   "file_extension": ".py",
   "mimetype": "text/x-python",
   "name": "python",
   "nbconvert_exporter": "python",
   "pygments_lexer": "ipython3",
   "version": "3.9.0"
  }
 },
 "nbformat": 4,
 "nbformat_minor": 5
}
